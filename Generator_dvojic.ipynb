{
  "nbformat": 4,
  "nbformat_minor": 0,
  "metadata": {
    "colab": {
      "name": "Generator_dvojic.ipynb",
      "provenance": [],
      "authorship_tag": "ABX9TyMPHAd9c67BbOxwaFvm5gp+",
      "include_colab_link": true
    },
    "kernelspec": {
      "name": "python3",
      "display_name": "Python 3"
    }
  },
  "cells": [
    {
      "cell_type": "markdown",
      "metadata": {
        "id": "view-in-github",
        "colab_type": "text"
      },
      "source": [
        "<a href=\"https://colab.research.google.com/github/valenja9/cesta_k_uspechu/blob/main/Generator_dvojic.ipynb\" target=\"_parent\"><img src=\"https://colab.research.google.com/assets/colab-badge.svg\" alt=\"Open In Colab\"/></a>"
      ]
    },
    {
      "cell_type": "code",
      "metadata": {
        "id": "kuPNxSsJFE5B",
        "colab": {
          "base_uri": "https://localhost:8080/"
        },
        "outputId": "53753ba5-2587-46ed-b683-e98a11ad3106"
      },
      "source": [
        "zaci = input(\"zadej: \").split(\",\")\n",
        "print(zaci)"
      ],
      "execution_count": null,
      "outputs": [
        {
          "output_type": "stream",
          "text": [
            "zadej: Petr, Karel, Jaroslav, Pepa Damian, Jakub\n",
            "['Petr', ' Karel', ' Jaroslav', ' Pepa Damian', ' Jakub']\n"
          ],
          "name": "stdout"
        }
      ]
    },
    {
      "cell_type": "code",
      "metadata": {
        "id": "Z1Gy09qfCFF8",
        "colab": {
          "base_uri": "https://localhost:8080/"
        },
        "outputId": "ae7b818a-9dc5-41f4-95ae-0a15275f8c78"
      },
      "source": [
        "zaci"
      ],
      "execution_count": null,
      "outputs": [
        {
          "output_type": "execute_result",
          "data": {
            "text/plain": [
              "['Petr', ' Karel', ' Jaroslav', ' Pepa Damian', ' Jakub']"
            ]
          },
          "metadata": {
            "tags": []
          },
          "execution_count": 2
        }
      ]
    },
    {
      "cell_type": "code",
      "metadata": {
        "id": "nOWWlsq-GZ09",
        "colab": {
          "base_uri": "https://localhost:8080/",
          "height": 337
        },
        "outputId": "ed724f9e-993c-4e26-ad30-fdf3cf4647d2"
      },
      "source": [
        "import random\n",
        " \n",
        "dvojice = []\n",
        "while zaci:\n",
        "   zak = zaci.pop()\n",
        "   vyber = random.choice(zaci)\n",
        "   zaci.remove(vyber)\n",
        "   dvojice.append((zak,vyber))"
      ],
      "execution_count": null,
      "outputs": [
        {
          "output_type": "error",
          "ename": "IndexError",
          "evalue": "ignored",
          "traceback": [
            "\u001b[0;31m---------------------------------------------------------------------------\u001b[0m",
            "\u001b[0;31mIndexError\u001b[0m                                Traceback (most recent call last)",
            "\u001b[0;32m<ipython-input-3-ee937c3b6caa>\u001b[0m in \u001b[0;36m<module>\u001b[0;34m()\u001b[0m\n\u001b[1;32m      4\u001b[0m \u001b[0;32mwhile\u001b[0m \u001b[0mzaci\u001b[0m\u001b[0;34m:\u001b[0m\u001b[0;34m\u001b[0m\u001b[0;34m\u001b[0m\u001b[0m\n\u001b[1;32m      5\u001b[0m    \u001b[0mzak\u001b[0m \u001b[0;34m=\u001b[0m \u001b[0mzaci\u001b[0m\u001b[0;34m.\u001b[0m\u001b[0mpop\u001b[0m\u001b[0;34m(\u001b[0m\u001b[0;34m)\u001b[0m\u001b[0;34m\u001b[0m\u001b[0;34m\u001b[0m\u001b[0m\n\u001b[0;32m----> 6\u001b[0;31m    \u001b[0mvyber\u001b[0m \u001b[0;34m=\u001b[0m \u001b[0mrandom\u001b[0m\u001b[0;34m.\u001b[0m\u001b[0mchoice\u001b[0m\u001b[0;34m(\u001b[0m\u001b[0mzaci\u001b[0m\u001b[0;34m)\u001b[0m\u001b[0;34m\u001b[0m\u001b[0;34m\u001b[0m\u001b[0m\n\u001b[0m\u001b[1;32m      7\u001b[0m    \u001b[0mzaci\u001b[0m\u001b[0;34m.\u001b[0m\u001b[0mremove\u001b[0m\u001b[0;34m(\u001b[0m\u001b[0mvyber\u001b[0m\u001b[0;34m)\u001b[0m\u001b[0;34m\u001b[0m\u001b[0;34m\u001b[0m\u001b[0m\n\u001b[1;32m      8\u001b[0m    \u001b[0mdvojice\u001b[0m\u001b[0;34m.\u001b[0m\u001b[0mappend\u001b[0m\u001b[0;34m(\u001b[0m\u001b[0;34m(\u001b[0m\u001b[0mzak\u001b[0m\u001b[0;34m,\u001b[0m\u001b[0mvyber\u001b[0m\u001b[0;34m)\u001b[0m\u001b[0;34m)\u001b[0m\u001b[0;34m\u001b[0m\u001b[0;34m\u001b[0m\u001b[0m\n",
            "\u001b[0;32m/usr/lib/python3.6/random.py\u001b[0m in \u001b[0;36mchoice\u001b[0;34m(self, seq)\u001b[0m\n\u001b[1;32m    258\u001b[0m             \u001b[0mi\u001b[0m \u001b[0;34m=\u001b[0m \u001b[0mself\u001b[0m\u001b[0;34m.\u001b[0m\u001b[0m_randbelow\u001b[0m\u001b[0;34m(\u001b[0m\u001b[0mlen\u001b[0m\u001b[0;34m(\u001b[0m\u001b[0mseq\u001b[0m\u001b[0;34m)\u001b[0m\u001b[0;34m)\u001b[0m\u001b[0;34m\u001b[0m\u001b[0;34m\u001b[0m\u001b[0m\n\u001b[1;32m    259\u001b[0m         \u001b[0;32mexcept\u001b[0m \u001b[0mValueError\u001b[0m\u001b[0;34m:\u001b[0m\u001b[0;34m\u001b[0m\u001b[0;34m\u001b[0m\u001b[0m\n\u001b[0;32m--> 260\u001b[0;31m             \u001b[0;32mraise\u001b[0m \u001b[0mIndexError\u001b[0m\u001b[0;34m(\u001b[0m\u001b[0;34m'Cannot choose from an empty sequence'\u001b[0m\u001b[0;34m)\u001b[0m \u001b[0;32mfrom\u001b[0m \u001b[0;32mNone\u001b[0m\u001b[0;34m\u001b[0m\u001b[0;34m\u001b[0m\u001b[0m\n\u001b[0m\u001b[1;32m    261\u001b[0m         \u001b[0;32mreturn\u001b[0m \u001b[0mseq\u001b[0m\u001b[0;34m[\u001b[0m\u001b[0mi\u001b[0m\u001b[0;34m]\u001b[0m\u001b[0;34m\u001b[0m\u001b[0;34m\u001b[0m\u001b[0m\n\u001b[1;32m    262\u001b[0m \u001b[0;34m\u001b[0m\u001b[0m\n",
            "\u001b[0;31mIndexError\u001b[0m: Cannot choose from an empty sequence"
          ]
        }
      ]
    },
    {
      "cell_type": "code",
      "metadata": {
        "id": "ig3Pz5yfCTDs",
        "colab": {
          "base_uri": "https://localhost:8080/",
          "height": 34
        },
        "outputId": "bd0b8741-760b-4069-85e7-c0cd5e29cf6e"
      },
      "source": [
        "dvojice"
      ],
      "execution_count": null,
      "outputs": [
        {
          "output_type": "execute_result",
          "data": {
            "text/plain": [
              "[('borek', 'kamil'), ('petr', 'karel')]"
            ]
          },
          "metadata": {
            "tags": []
          },
          "execution_count": 12
        }
      ]
    },
    {
      "cell_type": "code",
      "metadata": {
        "id": "lrsPQYNJCjhN"
      },
      "source": [
        "def generator_dvojic():\n",
        "  \"\"\"\n",
        "  Funkce generuje dvojice! Vraci list[tuple[str]]\n",
        "  \"\"\"\n",
        "  zaci = input(\"Zadej jména a rozděl je čárkou: \").split(\",\")\n",
        "  dvojice = []\n",
        "  while zaci:\n",
        "    zak = zaci.pop()\n",
        "    try:\n",
        "      vyber = random.choice(zaci)\n",
        "      zaci.remove(vyber)\n",
        "      dvojice.append((zak,vyber))\n",
        "    except IndexError:\n",
        "      dvojice.append((zak,\"Je lichý!\"))\n",
        "\n",
        "  return dvojice\n"
      ],
      "execution_count": null,
      "outputs": []
    },
    {
      "cell_type": "code",
      "metadata": {
        "id": "nzO5SsCvCzeH",
        "colab": {
          "base_uri": "https://localhost:8080/"
        },
        "outputId": "deaf90b8-ce9d-4f01-a255-aefe21cf87d8"
      },
      "source": [
        "nase_dvojice = generator_dvojic()\n",
        "for dvoice in nase_dvojice:\n",
        "  print(\"Takhle se posadte: \", dvoice)"
      ],
      "execution_count": null,
      "outputs": [
        {
          "output_type": "stream",
          "text": [
            "Zadej jména a rozděl je čárkou: Jakub,petr,kamil,damian,honza\n",
            "Takhle se posadte:  ('honza', 'petr')\n",
            "Takhle se posadte:  ('damian', 'kamil')\n",
            "Takhle se posadte:  ('Jakub', 'Je lichý!')\n"
          ],
          "name": "stdout"
        }
      ]
    }
  ]
}