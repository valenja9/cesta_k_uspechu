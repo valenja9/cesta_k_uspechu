{
  "nbformat": 4,
  "nbformat_minor": 0,
  "metadata": {
    "colab": {
      "name": "5_trida.ipynb",
      "provenance": [],
      "authorship_tag": "ABX9TyNdvn21P4Bh371PBskhLD3s",
      "include_colab_link": true
    },
    "kernelspec": {
      "name": "python3",
      "display_name": "Python 3"
    }
  },
  "cells": [
    {
      "cell_type": "markdown",
      "metadata": {
        "id": "view-in-github",
        "colab_type": "text"
      },
      "source": [
        "<a href=\"https://colab.research.google.com/github/valenja9/cesta_k_uspechu/blob/main/5_trida.ipynb\" target=\"_parent\"><img src=\"https://colab.research.google.com/assets/colab-badge.svg\" alt=\"Open In Colab\"/></a>"
      ]
    },
    {
      "cell_type": "markdown",
      "metadata": {
        "id": "tC5FZId7Jzmf"
      },
      "source": [
        "# Zaklady programovani"
      ]
    },
    {
      "cell_type": "code",
      "metadata": {
        "id": "gD0XFEPdFJ12",
        "colab": {
          "base_uri": "https://localhost:8080/",
          "height": 69
        },
        "outputId": "b34bd871-3f6b-49b8-cfc1-4e4bd079f946"
      },
      "source": [
        "#Zaciname programovat\n",
        "krabicka = \"zadavam text\" # Vytvarime text \n",
        "cislo = 5 #vytvarime cislo\n",
        "print(cislo) #otevirame krabicku dle jmena.\n",
        "print(krabicka, cislo) # vypsani vice krabicek\n",
        "print(\"Tady mohu ještě napsat text\", cislo, \"klidně další text\", krabicka)"
      ],
      "execution_count": null,
      "outputs": [
        {
          "output_type": "stream",
          "text": [
            "5\n",
            "zadavam text 5\n",
            "Tady mohu ještě napsat text 5 klidně další text zadavam text\n"
          ],
          "name": "stdout"
        }
      ]
    },
    {
      "cell_type": "markdown",
      "metadata": {
        "id": "b1zZH-Z-Jt7B"
      },
      "source": [
        "#Chatovaci aplikace\n"
      ]
    },
    {
      "cell_type": "code",
      "metadata": {
        "id": "sv93chfGJpi-",
        "colab": {
          "base_uri": "https://localhost:8080/",
          "height": 52
        },
        "outputId": "661d0d1d-17d7-48f1-e69c-9eb47e419614"
      },
      "source": [
        "#Bart\n",
        "bart = \"Vypadni ty .... velrybo\"\n",
        "#Homer\n",
        "homer = \"Ty jeden mrnavej\"\n",
        "print(\"Bart rika: \",bart)\n",
        "print(\"Homer rika: \", homer)"
      ],
      "execution_count": null,
      "outputs": [
        {
          "output_type": "stream",
          "text": [
            "Bart rika:  Vypadni ty .... velrybo\n",
            "Homer rika:  Ty jeden mrnavej\n"
          ],
          "name": "stdout"
        }
      ]
    },
    {
      "cell_type": "markdown",
      "metadata": {
        "id": "h6iV2S9RqJgy"
      },
      "source": [
        "# Input"
      ]
    },
    {
      "cell_type": "code",
      "metadata": {
        "id": "PEVESZ3pLQF4",
        "colab": {
          "base_uri": "https://localhost:8080/",
          "height": 225
        },
        "outputId": "2661f948-121e-4e5a-e89d-15a457bdd9f3"
      },
      "source": [
        "bart = input(\"Co rika bart: \")\n",
        "homer = input(\"Co rika homer: \")\n",
        "print(\"Bart rika: \",bart)\n",
        "print(\"Homer rika: \", homer)\n",
        "bart = input(\"Co rika bart: \")\n",
        "homer = input(\"Co rika homer: \")\n",
        "print(\"Bart rika: \",bart)\n",
        "print(\"Homer rika: \", homer)\n",
        "bart = input(\"Co rika bart: \")\n",
        "homer = input(\"Co rika homer: \")\n",
        "print(\"Bart rika: \",bart)\n",
        "print(\"Homer rika: \", homer)"
      ],
      "execution_count": null,
      "outputs": [
        {
          "output_type": "stream",
          "text": [
            "Co rika bart: ahoj\n",
            "Co rika homer: ahoj\n",
            "Bart rika:  ahoj\n",
            "Homer rika:  ahoj\n",
            "Co rika bart: ja nejdu do skoly\n",
            "Co rika homer: ale jdes!\n",
            "Bart rika:  ja nejdu do skoly\n",
            "Homer rika:  ale jdes!\n",
            "Co rika bart: nejdu\n",
            "Co rika homer: Jdes!\n",
            "Bart rika:  nejdu\n",
            "Homer rika:  Jdes!\n"
          ],
          "name": "stdout"
        }
      ]
    },
    {
      "cell_type": "markdown",
      "metadata": {
        "id": "DaS7h9GaqQUq"
      },
      "source": [
        "#Soucet dvou cisel"
      ]
    },
    {
      "cell_type": "code",
      "metadata": {
        "id": "4shszV2tMk2I",
        "colab": {
          "base_uri": "https://localhost:8080/",
          "height": 35
        },
        "outputId": "8c5899dd-a8e6-4162-bbd5-5965c71f3f91"
      },
      "source": [
        "cislo1 = 6\n",
        "cislo2 = 7\n",
        "vysledek = cislo1 + cislo2\n",
        "print(vysledek)"
      ],
      "execution_count": null,
      "outputs": [
        {
          "output_type": "stream",
          "text": [
            "13\n"
          ],
          "name": "stdout"
        }
      ]
    },
    {
      "cell_type": "markdown",
      "metadata": {
        "id": "P6dXaRWvqW7B"
      },
      "source": [
        "#Soucet dvou cisel pomoci input"
      ]
    },
    {
      "cell_type": "code",
      "metadata": {
        "id": "VHaW4O5zNBSm",
        "colab": {
          "base_uri": "https://localhost:8080/",
          "height": 69
        },
        "outputId": "ce34f9bf-d921-4a9b-86d0-a4cf88e50f79"
      },
      "source": [
        "cislo1 = int(input(\"Zadej cislo: \"))\n",
        "cislo2 = int(input(\"Zadej cislo: \"))\n",
        "vysledek = cislo1 + cislo2\n",
        "print(vysledek)"
      ],
      "execution_count": null,
      "outputs": [
        {
          "output_type": "stream",
          "text": [
            "Zadej cislo: 6\n",
            "Zadej cislo: 7\n",
            "13\n"
          ],
          "name": "stdout"
        }
      ]
    },
    {
      "cell_type": "code",
      "metadata": {
        "id": "Tj1BwdlANfH-",
        "colab": {
          "base_uri": "https://localhost:8080/",
          "height": 35
        },
        "outputId": "f36f27de-1946-462c-8f51-a648da1a7516"
      },
      "source": [
        "print(\"5hjkjkjjkjkljlljlll\"+\"6\")"
      ],
      "execution_count": null,
      "outputs": [
        {
          "output_type": "stream",
          "text": [
            "5hjkjkjjkjkljlljlll6\n"
          ],
          "name": "stdout"
        }
      ]
    },
    {
      "cell_type": "markdown",
      "metadata": {
        "id": "4v216jUDLcOI"
      },
      "source": [
        "# list a forcyklus\n",
        "Dnes děláme list a forcyklus\n",
        "- type() pro zjištěni o jaky typ jde\n",
        "- zname 3 typy, string(text), int(cislo), list(více přihrádková krabička)"
      ]
    },
    {
      "cell_type": "code",
      "metadata": {
        "id": "2y0xJ5_HWmlC"
      },
      "source": [
        "#Co je to list a forcyklus\n",
        "krabicka_ktera_ma_vice_mist_pro_ulozni = [\"Jakub\", \"Petr\", \"Kamil\", \"Honza\"]"
      ],
      "execution_count": null,
      "outputs": []
    },
    {
      "cell_type": "code",
      "metadata": {
        "id": "vB4BTNs-MKHN",
        "colab": {
          "base_uri": "https://localhost:8080/",
          "height": 34
        },
        "outputId": "9ba26912-06e7-42ab-e32c-fe233160aa51"
      },
      "source": [
        "print(krabicka_ktera_ma_vice_mist_pro_ulozni)"
      ],
      "execution_count": null,
      "outputs": [
        {
          "output_type": "stream",
          "text": [
            "['Jakub', 'Petr', 'Kamil', 'Honza']\n"
          ],
          "name": "stdout"
        }
      ]
    },
    {
      "cell_type": "markdown",
      "metadata": {
        "id": "m-cLCOzCqfpy"
      },
      "source": [
        "# Jakeho je datoveho typu?"
      ]
    },
    {
      "cell_type": "code",
      "metadata": {
        "id": "ufcNiiJSMQZ9",
        "colab": {
          "base_uri": "https://localhost:8080/",
          "height": 34
        },
        "outputId": "11fec280-1622-4fed-8849-595d38ac0c79"
      },
      "source": [
        "type(\"Honza\")"
      ],
      "execution_count": null,
      "outputs": [
        {
          "output_type": "execute_result",
          "data": {
            "text/plain": [
              "str"
            ]
          },
          "metadata": {
            "tags": []
          },
          "execution_count": 3
        }
      ]
    },
    {
      "cell_type": "code",
      "metadata": {
        "id": "iExrFgp1Ms5M",
        "colab": {
          "base_uri": "https://localhost:8080/",
          "height": 34
        },
        "outputId": "9c5d7cad-e03e-4a46-cce3-b77244402a10"
      },
      "source": [
        "type(0)"
      ],
      "execution_count": null,
      "outputs": [
        {
          "output_type": "execute_result",
          "data": {
            "text/plain": [
              "int"
            ]
          },
          "metadata": {
            "tags": []
          },
          "execution_count": 4
        }
      ]
    },
    {
      "cell_type": "code",
      "metadata": {
        "id": "xZSs2z6IMvxy",
        "colab": {
          "base_uri": "https://localhost:8080/",
          "height": 34
        },
        "outputId": "b3fd2ef6-7073-40c3-ea95-81da1c7ccf85"
      },
      "source": [
        "type(krabicka_ktera_ma_vice_mist_pro_ulozni)"
      ],
      "execution_count": null,
      "outputs": [
        {
          "output_type": "execute_result",
          "data": {
            "text/plain": [
              "list"
            ]
          },
          "metadata": {
            "tags": []
          },
          "execution_count": 5
        }
      ]
    },
    {
      "cell_type": "code",
      "metadata": {
        "id": "5EKWFHwaNUE3"
      },
      "source": [
        ""
      ],
      "execution_count": null,
      "outputs": []
    },
    {
      "cell_type": "markdown",
      "metadata": {
        "id": "F2yqpRuKqxg3"
      },
      "source": [
        "# Jak pracovat s listem"
      ]
    },
    {
      "cell_type": "code",
      "metadata": {
        "id": "rALgrgEgj9lF",
        "colab": {
          "base_uri": "https://localhost:8080/",
          "height": 34
        },
        "outputId": "faecc49b-5cd0-4579-8f86-f555ad8de152"
      },
      "source": [
        "#Jak vypsat?\n",
        "#Jako poradi... kdo dobehl prvni?\n",
        "krabicka_ktera_ma_vice_mist_pro_ulozni = [\"Jakub\", \"Petr\", \"Kamil\", \"Honza\"]\n",
        "print(krabicka_ktera_ma_vice_mist_pro_ulozni[3])"
      ],
      "execution_count": null,
      "outputs": [
        {
          "output_type": "stream",
          "text": [
            "Honza\n"
          ],
          "name": "stdout"
        }
      ]
    },
    {
      "cell_type": "code",
      "metadata": {
        "id": "LtcnpKt_Nt5p",
        "colab": {
          "base_uri": "https://localhost:8080/",
          "height": 86
        },
        "outputId": "9de099d1-825a-4a34-9d56-e5cab67d42f1"
      },
      "source": [
        "#vypisuji jmeno po jmenu z me krabuicky\n",
        "krabicka_ktera_ma_vice_mist_pro_ulozni = [\"Jakub\", \"Petr\", \"Kamil\", \"Honza\"] #[] a vsechno odcarkovat\n",
        "print(\"prvni\",krabicka_ktera_ma_vice_mist_pro_ulozni[0])#poradi od nuly\n",
        "print(\"druhy\",krabicka_ktera_ma_vice_mist_pro_ulozni[1])\n",
        "print(\"treti\",krabicka_ktera_ma_vice_mist_pro_ulozni[2])\n",
        "print(\"ctvrty\",krabicka_ktera_ma_vice_mist_pro_ulozni[3])"
      ],
      "execution_count": null,
      "outputs": [
        {
          "output_type": "stream",
          "text": [
            "prvni Jakub\n",
            "druhy Petr\n",
            "treti Kamil\n",
            "ctvrty Honza\n"
          ],
          "name": "stdout"
        }
      ]
    },
    {
      "cell_type": "code",
      "metadata": {
        "id": "qUAMW53_OVxO",
        "colab": {
          "base_uri": "https://localhost:8080/",
          "height": 34
        },
        "outputId": "21a34240-f308-47fd-b792-2fb9c4096a9c"
      },
      "source": [
        "krabicka_vice_cisel = [0,1,2,3,4,5,6,7,8,9,10]\n",
        "print(krabicka_vice_cisel)"
      ],
      "execution_count": null,
      "outputs": [
        {
          "output_type": "stream",
          "text": [
            "[0, 1, 2, 3, 4, 5, 6, 7, 8, 9, 10]\n"
          ],
          "name": "stdout"
        }
      ]
    },
    {
      "cell_type": "code",
      "metadata": {
        "id": "Kdu01tRpOqNj"
      },
      "source": [
        "rodina_simpsonu = [\"Homer\", \"Marge\", \"Bart\"]"
      ],
      "execution_count": null,
      "outputs": []
    },
    {
      "cell_type": "markdown",
      "metadata": {
        "id": "3eCrtDokq7wa"
      },
      "source": [
        "# Jak uložit jednotliva jmena"
      ]
    },
    {
      "cell_type": "code",
      "metadata": {
        "id": "tISk6f9IO4vv",
        "colab": {
          "base_uri": "https://localhost:8080/"
        },
        "outputId": "767a29ec-8918-4329-b35b-703cda5913b1"
      },
      "source": [
        "homer = rodina_simpsonu[0]\n",
        "marge = rodina_simpsonu[1]\n",
        "bart = rodina_simpsonu[2]\n",
        "print(homer, marge, bart)                      "
      ],
      "execution_count": null,
      "outputs": [
        {
          "output_type": "stream",
          "text": [
            "Homer Marge Bart\n"
          ],
          "name": "stdout"
        }
      ]
    },
    {
      "cell_type": "markdown",
      "metadata": {
        "id": "vCdZK168rHWm"
      },
      "source": [
        "# Jinný způsob"
      ]
    },
    {
      "cell_type": "code",
      "metadata": {
        "id": "Qn_qVy2SPV-8"
      },
      "source": [
        "homer, marge, bart = rodina_simpsonu #ulozeni o jednotlivych krabicek"
      ],
      "execution_count": null,
      "outputs": []
    },
    {
      "cell_type": "code",
      "metadata": {
        "id": "WPAJkvhqPjjS",
        "colab": {
          "base_uri": "https://localhost:8080/",
          "height": 34
        },
        "outputId": "b4e829ad-7f43-4d4c-ebfc-e2c9ab0082a2"
      },
      "source": [
        "print(homer,marge, bart)"
      ],
      "execution_count": null,
      "outputs": [
        {
          "output_type": "stream",
          "text": [
            "Homer Marge Bart\n"
          ],
          "name": "stdout"
        }
      ]
    },
    {
      "cell_type": "code",
      "metadata": {
        "id": "7wv7PXinkQxl",
        "colab": {
          "base_uri": "https://localhost:8080/",
          "height": 86
        },
        "outputId": "742480df-8dad-4ab8-b2a7-c4329f70084a"
      },
      "source": [
        "for jmeno in krabicka_ktera_ma_vice_mist_pro_ulozni:\n",
        "  print(jmeno)"
      ],
      "execution_count": null,
      "outputs": [
        {
          "output_type": "stream",
          "text": [
            "Jakub\n",
            "Petr\n",
            "Kamil\n",
            "Honza\n"
          ],
          "name": "stdout"
        }
      ]
    },
    {
      "cell_type": "code",
      "metadata": {
        "id": "wiWMUEIZkaor",
        "colab": {
          "base_uri": "https://localhost:8080/",
          "height": 86
        },
        "outputId": "936d657e-7bc0-4372-a4ff-961a680fc71f"
      },
      "source": [
        "#Trochu pribehu?\n",
        "for jmeno in krabicka_ktera_ma_vice_mist_pro_ulozni:\n",
        "  print(jmeno,\"říká, že máš udělat:  neco \")"
      ],
      "execution_count": null,
      "outputs": [
        {
          "output_type": "stream",
          "text": [
            "Jakub říká, že máš udělat:  neco \n",
            "Petr říká, že máš udělat:  neco \n",
            "Kamil říká, že máš udělat:  neco \n",
            "Honza říká, že máš udělat:  neco \n"
          ],
          "name": "stdout"
        }
      ]
    },
    {
      "cell_type": "markdown",
      "metadata": {
        "id": "Gocllghpd3dp"
      },
      "source": [
        "5_11_2020\n"
      ]
    },
    {
      "cell_type": "code",
      "metadata": {
        "id": "xNB6xQfud7ar"
      },
      "source": [
        "# []  , , , \n",
        "krabicka_ktera_ma_vice_mist_pro_ulozni = [\"Jakub\", \"Petr\", \"Kamil\", \"Honza\"] #[] a vsechno odcarkovat"
      ],
      "execution_count": null,
      "outputs": []
    },
    {
      "cell_type": "code",
      "metadata": {
        "id": "O8oqV9AQeCTt",
        "colab": {
          "base_uri": "https://localhost:8080/"
        },
        "outputId": "8bd5c9ad-4d51-4cd2-a730-2be81113a49b"
      },
      "source": [
        "print(krabicka_ktera_ma_vice_mist_pro_ulozni)"
      ],
      "execution_count": null,
      "outputs": [
        {
          "output_type": "stream",
          "text": [
            "['Jakub', 'Petr', 'Kamil', 'Honza']\n"
          ],
          "name": "stdout"
        }
      ]
    },
    {
      "cell_type": "code",
      "metadata": {
        "id": "RlpU-JCIekex",
        "colab": {
          "base_uri": "https://localhost:8080/"
        },
        "outputId": "40a401af-d06a-4591-a1fc-14b49342e85f"
      },
      "source": [
        "for jmeno in krabicka_ktera_ma_vice_mist_pro_ulozni:\n",
        "  print(jmeno,\"říká, že máš udělat:  neco \")"
      ],
      "execution_count": null,
      "outputs": [
        {
          "output_type": "stream",
          "text": [
            "Jakub říká, že máš udělat:  neco \n",
            "Petr říká, že máš udělat:  neco \n",
            "Kamil říká, že máš udělat:  neco \n",
            "Honza říká, že máš udělat:  neco \n"
          ],
          "name": "stdout"
        }
      ]
    }
  ]
}