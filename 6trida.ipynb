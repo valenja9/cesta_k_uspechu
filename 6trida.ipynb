{
  "nbformat": 4,
  "nbformat_minor": 0,
  "metadata": {
    "colab": {
      "name": "6trida.ipynb",
      "provenance": [],
      "authorship_tag": "ABX9TyOrtiyr13ledIuesNBcy4Sb",
      "include_colab_link": true
    },
    "kernelspec": {
      "name": "python3",
      "display_name": "Python 3"
    }
  },
  "cells": [
    {
      "cell_type": "markdown",
      "metadata": {
        "id": "view-in-github",
        "colab_type": "text"
      },
      "source": [
        "<a href=\"https://colab.research.google.com/github/valenja9/cesta_k_uspechu/blob/main/6trida.ipynb\" target=\"_parent\"><img src=\"https://colab.research.google.com/assets/colab-badge.svg\" alt=\"Open In Colab\"/></a>"
      ]
    },
    {
      "cell_type": "markdown",
      "metadata": {
        "id": "Xz24_ZRQzxFI"
      },
      "source": [
        "# Opakujeme základy"
      ]
    },
    {
      "cell_type": "markdown",
      "metadata": {
        "id": "novc5Pj0_zy2"
      },
      "source": [
        "# https://wintip.cz/480-jak-napsat-zavinac-a-dalsi-znaky-na-ceske-klavesnici"
      ]
    },
    {
      "cell_type": "code",
      "metadata": {
        "id": "r7YNcNV4zwAz"
      },
      "source": [
        "= #Uklada"
      ],
      "execution_count": null,
      "outputs": []
    },
    {
      "cell_type": "code",
      "metadata": {
        "id": "AqzU8yxEzvXi"
      },
      "source": [
        "#Do krabicky ukladam cislo .... cilo je modre.\n",
        "krabicka_cislo = 12"
      ],
      "execution_count": null,
      "outputs": []
    },
    {
      "cell_type": "code",
      "metadata": {
        "id": "fpADbj8g43Dx",
        "colab": {
          "base_uri": "https://localhost:8080/"
        },
        "outputId": "4ae49a38-2402-4c31-8b7d-c2df7bec2842"
      },
      "source": [
        "print(krabicka_cislo) #print(jmeno_krabicky)"
      ],
      "execution_count": null,
      "outputs": [
        {
          "output_type": "stream",
          "text": [
            "12\n"
          ],
          "name": "stdout"
        }
      ]
    },
    {
      "cell_type": "code",
      "metadata": {
        "id": "IwND_I7O26DL",
        "colab": {
          "base_uri": "https://localhost:8080/"
        },
        "outputId": "3f307069-a359-41b6-9b61-074e69a2ecc8"
      },
      "source": [
        "#Ukladani textu\n",
        "krabicka_text = \"tady pisu svuj text\" \n",
        "print(krabicka_text)"
      ],
      "execution_count": null,
      "outputs": [
        {
          "output_type": "stream",
          "text": [
            "tady pisu svuj text\n"
          ],
          "name": "stdout"
        }
      ]
    },
    {
      "cell_type": "code",
      "metadata": {
        "id": "DXDMBHmi5wQK"
      },
      "source": [
        "#\n",
        "cislo1 = 34455 #bez uvovozovek!\n",
        "cislo2 = 45"
      ],
      "execution_count": null,
      "outputs": []
    },
    {
      "cell_type": "code",
      "metadata": {
        "id": "mt6xX9EY6y_m"
      },
      "source": [
        "print(cislo1 / cislo2) \n",
        "print(cislo1 + cislo2)\n",
        "print(cislo1 - cislo2)\n",
        "print(cislo1 * cislo2) # shift + 8 na ENG  je znak pro nasobeni"
      ],
      "execution_count": null,
      "outputs": []
    },
    {
      "cell_type": "markdown",
      "metadata": {
        "id": "bzyK1VG7Ix9t"
      },
      "source": [
        "#Vylepseni kodu"
      ]
    },
    {
      "cell_type": "code",
      "metadata": {
        "id": "RUDgxLblGP4a",
        "colab": {
          "base_uri": "https://localhost:8080/"
        },
        "outputId": "147d77f3-3abc-4bfb-fb96-bfece6e6068c"
      },
      "source": [
        "# do krabicky vysledek ulozime  cislo1 / cislo2\n",
        "\n",
        "cislo1 = int(input(\"Zadej cislo1: \")) \n",
        "cislo2 = int(input(\"Zadej cislo2: \"))\n",
        "vysledek = cislo1 / cislo2\n",
        "print(\"Vysledek po deleni: \", vysledek)\n",
        "# do krabicky vysledek ulozime  cislo1 * cislo2\n",
        "vysledek = cislo1 * cislo2\n",
        "print(\"Vysledek po nasobeni: \", vysledek)"
      ],
      "execution_count": null,
      "outputs": [
        {
          "output_type": "stream",
          "text": [
            "Zadej cislo1: 45\n",
            "Zadej cislo2: 56\n",
            "Vysledek po deleni:  0.8035714285714286\n",
            "Vysledek po nasobeni:  2520\n"
          ],
          "name": "stdout"
        }
      ]
    },
    {
      "cell_type": "code",
      "metadata": {
        "id": "1bzm8zPhKMjf"
      },
      "source": [
        "cislo1 = int(input(\"napis 1 cislo...  \"))\n",
        "cislo2 = int(input(\"napis 2 cislo...  \"))\n",
        "vysledek = cislo1 + cislo2\n",
        "print (\"zpusob: - :\" , vysledek)\n",
        "vysledek = cislo1 - cislo2\n",
        "print (\"zpusob: - :\" , vysledek)\n",
        "vysledek = cislo1 * cislo2\n",
        "print (\"zpusob: * :\" , vysledek)\n",
        "vysledek = cislo1 / cislo2\n",
        "print (\"zpusob: / :\" , vysledek)"
      ],
      "execution_count": null,
      "outputs": []
    },
    {
      "cell_type": "code",
      "metadata": {
        "id": "apGeeZIiJaDV",
        "colab": {
          "base_uri": "https://localhost:8080/"
        },
        "outputId": "7a935fb8-e0f1-46db-8509-de9ff8ee9223"
      },
      "source": [
        "cislo1 = input(\"napis 1 cislo...  \")\n",
        "cislo2 = input(\"napis 2 cislo...  \")\n",
        "vysledek = cislo1 + cislo2\n",
        "print (vysledek)"
      ],
      "execution_count": null,
      "outputs": [
        {
          "output_type": "stream",
          "text": [
            "napis 1 cislo...  4\n",
            "napis 2 cislo...  5\n",
            "45\n"
          ],
          "name": "stdout"
        }
      ]
    },
    {
      "cell_type": "code",
      "metadata": {
        "id": "YLT5jyWt-4wC",
        "colab": {
          "base_uri": "https://localhost:8080/"
        },
        "outputId": "53d728ee-5c23-4f28-a90c-e0d178e09c0c"
      },
      "source": [
        "Cislo1 = 0.9\n",
        "Cislo2 = 0.5\n",
        "Vysledek1 = Cislo1 * Cislo2\n",
        "print(Vysledek1)"
      ],
      "execution_count": null,
      "outputs": [
        {
          "output_type": "stream",
          "text": [
            "0.45\n"
          ],
          "name": "stdout"
        }
      ]
    },
    {
      "cell_type": "code",
      "metadata": {
        "id": "1fqIzSc97QZi",
        "colab": {
          "base_uri": "https://localhost:8080/"
        },
        "outputId": "ff0f191c-8d6b-4d9c-869d-4bc8ff8dd91d"
      },
      "source": [
        "#desetina cisla.\n",
        "cislo1 = 0.1\n",
        "cislo2 = 0.5\n",
        "cislo3 = 4.8\n",
        "# (cislo1 - cislo3) / cislo2 uloz do vysledku\n",
        "\n",
        "vysledek = (cislo1 - cislo3) / cislo2\n",
        "print(vysledek)\n",
        "\n",
        "#vysledek nasobeni\n",
        "vysledek = cislo1 * cislo2 \n",
        "print(vysledek)"
      ],
      "execution_count": null,
      "outputs": [
        {
          "output_type": "stream",
          "text": [
            "-3.8\n",
            "0.45\n"
          ],
          "name": "stdout"
        }
      ]
    },
    {
      "cell_type": "code",
      "metadata": {
        "id": "5aQ3Qeq_53_f",
        "colab": {
          "base_uri": "https://localhost:8080/"
        },
        "outputId": "05a0bf91-cf6d-4a7f-9b23-995becfac1d9"
      },
      "source": [
        "krabicka = \"34455\" #Mame text!\n",
        "print(krabicka)"
      ],
      "execution_count": null,
      "outputs": [
        {
          "output_type": "stream",
          "text": [
            "34455\n"
          ],
          "name": "stdout"
        }
      ]
    },
    {
      "cell_type": "code",
      "metadata": {
        "id": "7bM7fDVT6U9E"
      },
      "source": [
        ""
      ],
      "execution_count": null,
      "outputs": []
    },
    {
      "cell_type": "code",
      "metadata": {
        "id": "1eK2Q99z3KbT"
      },
      "source": [
        "#Pokud chci spojit dve slova dohromady tak musim pomoci _ podtrzitka."
      ],
      "execution_count": null,
      "outputs": []
    },
    {
      "cell_type": "code",
      "metadata": {
        "id": "sqX56LkK4eYr"
      },
      "source": [
        ""
      ],
      "execution_count": null,
      "outputs": []
    },
    {
      "cell_type": "code",
      "metadata": {
        "id": "YOHZ5hs0Ws9v",
        "colab": {
          "base_uri": "https://localhost:8080/",
          "height": 34
        },
        "outputId": "e1f54807-2373-45eb-c798-b3f8e67fafa3"
      },
      "source": [
        "#Test ulozte do dvou promměných, krabicek. \"Lev\", \"Tygr\". Co je v krabickach vypište!\n",
        "zvire1 = \"Tygr\"\n",
        "zvire2 = \"Lev\"\n",
        "print(zvire1, zvire2)"
      ],
      "execution_count": null,
      "outputs": [
        {
          "output_type": "stream",
          "text": [
            "Tygr Lev\n"
          ],
          "name": "stdout"
        }
      ]
    },
    {
      "cell_type": "code",
      "metadata": {
        "id": "d4coJOD7XcEg",
        "colab": {
          "base_uri": "https://localhost:8080/",
          "height": 68
        },
        "outputId": "8f1c7b9d-a05c-4218-f3b8-71fee21ea8e0"
      },
      "source": [
        "#vytvorte dve krabicky a pomoci input do nich vlozte jmena jinych zvirat a vypište co je uvnitř.\n",
        "zvire1 = input('Zadej zvire: ')\n",
        "zvire2 = input('Zadej zvire: ')\n",
        "print(zvire1, zvire2)"
      ],
      "execution_count": null,
      "outputs": [
        {
          "output_type": "stream",
          "text": [
            "Zadej zvire: 6\n",
            "Zadej zvire: 5\n",
            "6 5\n"
          ],
          "name": "stdout"
        }
      ]
    },
    {
      "cell_type": "code",
      "metadata": {
        "id": "ZGZvILgXa7S5"
      },
      "source": [
        "#Jak něco uložit do krabičky?\n",
        "slovo = \"text\""
      ],
      "execution_count": null,
      "outputs": []
    },
    {
      "cell_type": "code",
      "metadata": {
        "id": "PCE4WufZbBqz",
        "colab": {
          "base_uri": "https://localhost:8080/",
          "height": 34
        },
        "outputId": "17e930c9-0150-4865-805f-db8ecb42e0b9"
      },
      "source": [
        "#jak to vypsat?\n",
        "print(slovo)"
      ],
      "execution_count": null,
      "outputs": [
        {
          "output_type": "stream",
          "text": [
            "text\n"
          ],
          "name": "stdout"
        }
      ]
    },
    {
      "cell_type": "code",
      "metadata": {
        "id": "K3_MlOEkbFXp",
        "colab": {
          "base_uri": "https://localhost:8080/",
          "height": 571
        },
        "outputId": "d7bdb820-93fe-4d39-a554-42e4f78ea1cc"
      },
      "source": [
        "#jak pouzit input?\n",
        "slovo = input(\"Zadej nneco: \")\n",
        "print(slovo)"
      ],
      "execution_count": null,
      "outputs": [
        {
          "output_type": "error",
          "ename": "KeyboardInterrupt",
          "evalue": "ignored",
          "traceback": [
            "\u001b[0;31m---------------------------------------------------------------------------\u001b[0m",
            "\u001b[0;31mKeyboardInterrupt\u001b[0m                         Traceback (most recent call last)",
            "\u001b[0;32m/usr/local/lib/python3.6/dist-packages/ipykernel/kernelbase.py\u001b[0m in \u001b[0;36m_input_request\u001b[0;34m(self, prompt, ident, parent, password)\u001b[0m\n\u001b[1;32m    728\u001b[0m             \u001b[0;32mtry\u001b[0m\u001b[0;34m:\u001b[0m\u001b[0;34m\u001b[0m\u001b[0;34m\u001b[0m\u001b[0m\n\u001b[0;32m--> 729\u001b[0;31m                 \u001b[0mident\u001b[0m\u001b[0;34m,\u001b[0m \u001b[0mreply\u001b[0m \u001b[0;34m=\u001b[0m \u001b[0mself\u001b[0m\u001b[0;34m.\u001b[0m\u001b[0msession\u001b[0m\u001b[0;34m.\u001b[0m\u001b[0mrecv\u001b[0m\u001b[0;34m(\u001b[0m\u001b[0mself\u001b[0m\u001b[0;34m.\u001b[0m\u001b[0mstdin_socket\u001b[0m\u001b[0;34m,\u001b[0m \u001b[0;36m0\u001b[0m\u001b[0;34m)\u001b[0m\u001b[0;34m\u001b[0m\u001b[0;34m\u001b[0m\u001b[0m\n\u001b[0m\u001b[1;32m    730\u001b[0m             \u001b[0;32mexcept\u001b[0m \u001b[0mException\u001b[0m\u001b[0;34m:\u001b[0m\u001b[0;34m\u001b[0m\u001b[0;34m\u001b[0m\u001b[0m\n",
            "\u001b[0;32m/usr/local/lib/python3.6/dist-packages/jupyter_client/session.py\u001b[0m in \u001b[0;36mrecv\u001b[0;34m(self, socket, mode, content, copy)\u001b[0m\n\u001b[1;32m    802\u001b[0m         \u001b[0;32mtry\u001b[0m\u001b[0;34m:\u001b[0m\u001b[0;34m\u001b[0m\u001b[0;34m\u001b[0m\u001b[0m\n\u001b[0;32m--> 803\u001b[0;31m             \u001b[0mmsg_list\u001b[0m \u001b[0;34m=\u001b[0m \u001b[0msocket\u001b[0m\u001b[0;34m.\u001b[0m\u001b[0mrecv_multipart\u001b[0m\u001b[0;34m(\u001b[0m\u001b[0mmode\u001b[0m\u001b[0;34m,\u001b[0m \u001b[0mcopy\u001b[0m\u001b[0;34m=\u001b[0m\u001b[0mcopy\u001b[0m\u001b[0;34m)\u001b[0m\u001b[0;34m\u001b[0m\u001b[0;34m\u001b[0m\u001b[0m\n\u001b[0m\u001b[1;32m    804\u001b[0m         \u001b[0;32mexcept\u001b[0m \u001b[0mzmq\u001b[0m\u001b[0;34m.\u001b[0m\u001b[0mZMQError\u001b[0m \u001b[0;32mas\u001b[0m \u001b[0me\u001b[0m\u001b[0;34m:\u001b[0m\u001b[0;34m\u001b[0m\u001b[0;34m\u001b[0m\u001b[0m\n",
            "\u001b[0;32m/usr/local/lib/python3.6/dist-packages/zmq/sugar/socket.py\u001b[0m in \u001b[0;36mrecv_multipart\u001b[0;34m(self, flags, copy, track)\u001b[0m\n\u001b[1;32m    490\u001b[0m         \"\"\"\n\u001b[0;32m--> 491\u001b[0;31m         \u001b[0mparts\u001b[0m \u001b[0;34m=\u001b[0m \u001b[0;34m[\u001b[0m\u001b[0mself\u001b[0m\u001b[0;34m.\u001b[0m\u001b[0mrecv\u001b[0m\u001b[0;34m(\u001b[0m\u001b[0mflags\u001b[0m\u001b[0;34m,\u001b[0m \u001b[0mcopy\u001b[0m\u001b[0;34m=\u001b[0m\u001b[0mcopy\u001b[0m\u001b[0;34m,\u001b[0m \u001b[0mtrack\u001b[0m\u001b[0;34m=\u001b[0m\u001b[0mtrack\u001b[0m\u001b[0;34m)\u001b[0m\u001b[0;34m]\u001b[0m\u001b[0;34m\u001b[0m\u001b[0;34m\u001b[0m\u001b[0m\n\u001b[0m\u001b[1;32m    492\u001b[0m         \u001b[0;31m# have first part already, only loop while more to receive\u001b[0m\u001b[0;34m\u001b[0m\u001b[0;34m\u001b[0m\u001b[0;34m\u001b[0m\u001b[0m\n",
            "\u001b[0;32mzmq/backend/cython/socket.pyx\u001b[0m in \u001b[0;36mzmq.backend.cython.socket.Socket.recv\u001b[0;34m()\u001b[0m\n",
            "\u001b[0;32mzmq/backend/cython/socket.pyx\u001b[0m in \u001b[0;36mzmq.backend.cython.socket.Socket.recv\u001b[0;34m()\u001b[0m\n",
            "\u001b[0;32mzmq/backend/cython/socket.pyx\u001b[0m in \u001b[0;36mzmq.backend.cython.socket._recv_copy\u001b[0;34m()\u001b[0m\n",
            "\u001b[0;32m/usr/local/lib/python3.6/dist-packages/zmq/backend/cython/checkrc.pxd\u001b[0m in \u001b[0;36mzmq.backend.cython.checkrc._check_rc\u001b[0;34m()\u001b[0m\n",
            "\u001b[0;31mKeyboardInterrupt\u001b[0m: ",
            "\nDuring handling of the above exception, another exception occurred:\n",
            "\u001b[0;31mKeyboardInterrupt\u001b[0m                         Traceback (most recent call last)",
            "\u001b[0;32m<ipython-input-5-61842240de65>\u001b[0m in \u001b[0;36m<module>\u001b[0;34m()\u001b[0m\n\u001b[1;32m      1\u001b[0m \u001b[0;31m#jak pouzit input?\u001b[0m\u001b[0;34m\u001b[0m\u001b[0;34m\u001b[0m\u001b[0;34m\u001b[0m\u001b[0m\n\u001b[0;32m----> 2\u001b[0;31m \u001b[0mslovo\u001b[0m \u001b[0;34m=\u001b[0m \u001b[0minput\u001b[0m\u001b[0;34m(\u001b[0m\u001b[0;34m\"Zadej nneco: \"\u001b[0m\u001b[0;34m)\u001b[0m\u001b[0;34m\u001b[0m\u001b[0;34m\u001b[0m\u001b[0m\n\u001b[0m\u001b[1;32m      3\u001b[0m \u001b[0mprint\u001b[0m\u001b[0;34m(\u001b[0m\u001b[0mslovo\u001b[0m\u001b[0;34m)\u001b[0m\u001b[0;34m\u001b[0m\u001b[0;34m\u001b[0m\u001b[0m\n",
            "\u001b[0;32m/usr/local/lib/python3.6/dist-packages/ipykernel/kernelbase.py\u001b[0m in \u001b[0;36mraw_input\u001b[0;34m(self, prompt)\u001b[0m\n\u001b[1;32m    702\u001b[0m             \u001b[0mself\u001b[0m\u001b[0;34m.\u001b[0m\u001b[0m_parent_ident\u001b[0m\u001b[0;34m,\u001b[0m\u001b[0;34m\u001b[0m\u001b[0;34m\u001b[0m\u001b[0m\n\u001b[1;32m    703\u001b[0m             \u001b[0mself\u001b[0m\u001b[0;34m.\u001b[0m\u001b[0m_parent_header\u001b[0m\u001b[0;34m,\u001b[0m\u001b[0;34m\u001b[0m\u001b[0;34m\u001b[0m\u001b[0m\n\u001b[0;32m--> 704\u001b[0;31m             \u001b[0mpassword\u001b[0m\u001b[0;34m=\u001b[0m\u001b[0;32mFalse\u001b[0m\u001b[0;34m,\u001b[0m\u001b[0;34m\u001b[0m\u001b[0;34m\u001b[0m\u001b[0m\n\u001b[0m\u001b[1;32m    705\u001b[0m         )\n\u001b[1;32m    706\u001b[0m \u001b[0;34m\u001b[0m\u001b[0m\n",
            "\u001b[0;32m/usr/local/lib/python3.6/dist-packages/ipykernel/kernelbase.py\u001b[0m in \u001b[0;36m_input_request\u001b[0;34m(self, prompt, ident, parent, password)\u001b[0m\n\u001b[1;32m    732\u001b[0m             \u001b[0;32mexcept\u001b[0m \u001b[0mKeyboardInterrupt\u001b[0m\u001b[0;34m:\u001b[0m\u001b[0;34m\u001b[0m\u001b[0;34m\u001b[0m\u001b[0m\n\u001b[1;32m    733\u001b[0m                 \u001b[0;31m# re-raise KeyboardInterrupt, to truncate traceback\u001b[0m\u001b[0;34m\u001b[0m\u001b[0;34m\u001b[0m\u001b[0;34m\u001b[0m\u001b[0m\n\u001b[0;32m--> 734\u001b[0;31m                 \u001b[0;32mraise\u001b[0m \u001b[0mKeyboardInterrupt\u001b[0m\u001b[0;34m\u001b[0m\u001b[0;34m\u001b[0m\u001b[0m\n\u001b[0m\u001b[1;32m    735\u001b[0m             \u001b[0;32melse\u001b[0m\u001b[0;34m:\u001b[0m\u001b[0;34m\u001b[0m\u001b[0;34m\u001b[0m\u001b[0m\n\u001b[1;32m    736\u001b[0m                 \u001b[0;32mbreak\u001b[0m\u001b[0;34m\u001b[0m\u001b[0;34m\u001b[0m\u001b[0m\n",
            "\u001b[0;31mKeyboardInterrupt\u001b[0m: "
          ]
        }
      ]
    },
    {
      "cell_type": "code",
      "metadata": {
        "id": "tCH_yLDPaWKr"
      },
      "source": [
        "bart = input(\"Co rika bart: \")\n",
        "homer = input(\"Co rika homer: \")\n",
        "print(\"Bart rika: \",bart)\n",
        "print(\"Homer rika: \", homer)\n",
        "bart = input(\"Co rika bart: \")\n",
        "homer = input(\"Co rika homer: \")\n",
        "print(\"Bart rika: \",bart)\n",
        "print(\"Homer rika: \", homer)\n",
        "bart = input(\"Co rika bart: \")\n",
        "homer = input(\"Co rika homer: \")\n",
        "print(\"Bart rika: \",bart)\n",
        "print(\"Homer rika: \", homer)"
      ],
      "execution_count": null,
      "outputs": []
    },
    {
      "cell_type": "code",
      "metadata": {
        "id": "2XpPgcpYkSJj"
      },
      "source": [
        "type(\"tohle je string\")"
      ],
      "execution_count": null,
      "outputs": []
    },
    {
      "cell_type": "code",
      "metadata": {
        "id": "n-qtmHjqkc-p"
      },
      "source": [
        "type(45)"
      ],
      "execution_count": null,
      "outputs": []
    },
    {
      "cell_type": "code",
      "metadata": {
        "id": "qqTS0a2xaYZQ"
      },
      "source": [
        "cislo1 = 6\n",
        "cislo2 = 7\n",
        "vysledek = cislo1 + cislo2\n",
        "print(vysledek)"
      ],
      "execution_count": null,
      "outputs": []
    },
    {
      "cell_type": "code",
      "metadata": {
        "id": "CkRzk6oLlM6A"
      },
      "source": [
        "cislo1 = input(\"Zadej cislo: \")\n",
        "cislo2 = input(\"Zadej cislo: \")\n",
        "vysledek = cislo1 + cislo2\n",
        "print(vysledek, type(vysledek))"
      ],
      "execution_count": null,
      "outputs": []
    },
    {
      "cell_type": "code",
      "metadata": {
        "id": "DS2IpCbAaZvx"
      },
      "source": [
        "cislo1 = int(input(\"Zadej cislo: \")) #preved na cislo pomoci int()\n",
        "cislo2 = int(input(\"Zadej cislo: \"))\n",
        "vysledek = cislo1 + cislo2\n",
        "print()"
      ],
      "execution_count": null,
      "outputs": []
    },
    {
      "cell_type": "code",
      "metadata": {
        "id": "AYXPyvVX0-pW"
      },
      "source": [
        "int = 10 "
      ],
      "execution_count": null,
      "outputs": []
    },
    {
      "cell_type": "code",
      "metadata": {
        "id": "hqCt_K5e1Bhy"
      },
      "source": [
        "int()"
      ],
      "execution_count": null,
      "outputs": []
    },
    {
      "cell_type": "code",
      "metadata": {
        "id": "W418z2oyzRP2"
      },
      "source": [
        "cislo = 5"
      ],
      "execution_count": null,
      "outputs": []
    },
    {
      "cell_type": "code",
      "metadata": {
        "id": "W8v8y7TL0gul"
      },
      "source": [
        "cislo = 50 \n",
        "print(cislo)"
      ],
      "execution_count": null,
      "outputs": []
    },
    {
      "cell_type": "code",
      "metadata": {
        "id": "jv51Y419g_1A",
        "colab": {
          "base_uri": "https://localhost:8080/",
          "height": 34
        },
        "outputId": "68144eba-8fda-4131-b5d9-a4a1b4f7f9e4"
      },
      "source": [
        "#List\n",
        " #Co je to list a forcyklus\n",
        "krabicka_ktera_ma_vice_mist_pro_ulozni = [\"Jakub\", \"Petr\", \"Kamil\", \"Honza\"]\n",
        "print(krabicka_ktera_ma_vice_mist_pro_ulozni)"
      ],
      "execution_count": null,
      "outputs": [
        {
          "output_type": "stream",
          "text": [
            "['Jakub', 'Petr', 'Kamil', 'Honza']\n"
          ],
          "name": "stdout"
        }
      ]
    },
    {
      "cell_type": "code",
      "metadata": {
        "id": "Tih7OWU6l5wb",
        "colab": {
          "base_uri": "https://localhost:8080/",
          "height": 34
        },
        "outputId": "13ab8d28-3229-4671-9097-c2c8a428121f"
      },
      "source": [
        "type(krabicka_ktera_ma_vice_mist_pro_ulozni)"
      ],
      "execution_count": null,
      "outputs": [
        {
          "output_type": "execute_result",
          "data": {
            "text/plain": [
              "list"
            ]
          },
          "metadata": {
            "tags": []
          },
          "execution_count": 10
        }
      ]
    },
    {
      "cell_type": "code",
      "metadata": {
        "id": "f-z64J8xafts",
        "colab": {
          "base_uri": "https://localhost:8080/",
          "height": 34
        },
        "outputId": "2b425f90-8533-46a5-c46f-a9d9d08d27bf"
      },
      "source": [
        "#Jak vypsat?\n",
        "#Jako poradi... kdo dobehl prvni?\n",
        "krabicka_ktera_ma_vice_mist_pro_ulozni = [\"Jakub\", \"Petr\", \"Kamil\", \"Honza\"]\n",
        "print(krabicka_ktera_ma_vice_mist_pro_ulozni[0])"
      ],
      "execution_count": null,
      "outputs": [
        {
          "output_type": "stream",
          "text": [
            "Jakub\n"
          ],
          "name": "stdout"
        }
      ]
    },
    {
      "cell_type": "code",
      "metadata": {
        "id": "xcKLvuhMahnE",
        "colab": {
          "base_uri": "https://localhost:8080/",
          "height": 86
        },
        "outputId": "62212593-6848-4d1b-fcdb-35e4c4f53d90"
      },
      "source": [
        "#vypisuji jmeno po jmenu z me krabuicky    0          1       2        3\n",
        "krabicka_ktera_ma_vice_mist_pro_ulozni = [\"Jakub\", \"Petr\", \"Kamil\", \"Honza\"] #[] a vsechno odcarkovat\n",
        "print(\"prvni\",krabicka_ktera_ma_vice_mist_pro_ulozni[0])#poradi od nuly\n",
        "print(\"druhy\",krabicka_ktera_ma_vice_mist_pro_ulozni[1])\n",
        "print(\"treti\",krabicka_ktera_ma_vice_mist_pro_ulozni[2])\n",
        "print(\"ctvrty\",krabicka_ktera_ma_vice_mist_pro_ulozni[3])"
      ],
      "execution_count": null,
      "outputs": [
        {
          "output_type": "stream",
          "text": [
            "prvni Jakub\n",
            "druhy Petr\n",
            "treti Kamil\n",
            "ctvrty Honza\n"
          ],
          "name": "stdout"
        }
      ]
    },
    {
      "cell_type": "code",
      "metadata": {
        "id": "7gZ9ZSr1ajJY",
        "colab": {
          "base_uri": "https://localhost:8080/",
          "height": 34
        },
        "outputId": "849784da-fe7f-4840-f26c-10bc5bb3aada"
      },
      "source": [
        "krabicka_vice_cisel = [0,1,2,3,4,5,6,7,8,9,10]\n",
        "print(krabicka_vice_cisel)"
      ],
      "execution_count": null,
      "outputs": [
        {
          "output_type": "stream",
          "text": [
            "[0, 1, 2, 3, 4, 5, 6, 7, 8, 9, 10]\n"
          ],
          "name": "stdout"
        }
      ]
    },
    {
      "cell_type": "code",
      "metadata": {
        "id": "WAxyJ8LhakZB"
      },
      "source": [
        "rodina_simpsonu = [\"Homer\", \"Marge\", \"Bart\"]"
      ],
      "execution_count": null,
      "outputs": []
    },
    {
      "cell_type": "code",
      "metadata": {
        "id": "RLaCEcAbaltQ"
      },
      "source": [
        "homer = rodina_simpsonu[0]\n",
        "marge = rodina_simpsonu[1]\n",
        "bart = rodina_simpsonu[2]\n",
        "print(homer, marge, bart)      "
      ],
      "execution_count": null,
      "outputs": []
    },
    {
      "cell_type": "code",
      "metadata": {
        "id": "qAmwc3_manZV"
      },
      "source": [
        "homer, marge, bart = rodina_simpsonu #ulozeni o jednotlivych krabicek"
      ],
      "execution_count": null,
      "outputs": []
    },
    {
      "cell_type": "code",
      "metadata": {
        "id": "ihTTb7H1ao2e"
      },
      "source": [
        "print(homer,marge, bart)"
      ],
      "execution_count": null,
      "outputs": []
    },
    {
      "cell_type": "code",
      "metadata": {
        "id": "iIWvRKpTnu07"
      },
      "source": [
        "rodina_simpsonu = [\"Homer\", \"Marge\", \"Bart\"]\n",
        "homer, marge, bart = rodina_simpsonu\n",
        "print(homer,marge, bart)"
      ],
      "execution_count": null,
      "outputs": []
    },
    {
      "cell_type": "code",
      "metadata": {
        "id": "KlxgBj6QaqMx"
      },
      "source": [
        "for jmeno in krabicka_ktera_ma_vice_mist_pro_ulozni:\n",
        "  print(jmeno)"
      ],
      "execution_count": null,
      "outputs": []
    },
    {
      "cell_type": "code",
      "metadata": {
        "id": "HAkHop6jarmQ"
      },
      "source": [
        "#Trochu pribehu?\n",
        "for jmeno in krabicka_ktera_ma_vice_mist_pro_ulozni:\n",
        "  print(jmeno,\"říká, že máš udělat:  neco \")"
      ],
      "execution_count": null,
      "outputs": []
    }
  ]
}