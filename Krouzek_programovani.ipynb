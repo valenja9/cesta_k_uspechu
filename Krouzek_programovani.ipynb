{
  "nbformat": 4,
  "nbformat_minor": 0,
  "metadata": {
    "colab": {
      "name": "Krouzek_programovani.ipynb",
      "provenance": [],
      "collapsed_sections": [],
      "authorship_tag": "ABX9TyMrIQ9m9tgyd9wvQCaHWTwC",
      "include_colab_link": true
    },
    "kernelspec": {
      "display_name": "Python 3",
      "name": "python3"
    }
  },
  "cells": [
    {
      "cell_type": "markdown",
      "metadata": {
        "id": "view-in-github",
        "colab_type": "text"
      },
      "source": [
        "<a href=\"https://colab.research.google.com/github/valenja9/cesta_k_uspechu/blob/main/Krouzek_programovani.ipynb\" target=\"_parent\"><img src=\"https://colab.research.google.com/assets/colab-badge.svg\" alt=\"Open In Colab\"/></a>"
      ]
    },
    {
      "cell_type": "code",
      "metadata": {
        "id": "btm6PmoOMwu3"
      },
      "source": [
        "list_superhrdinu = [\"superman\", \"ironman\",\"batman\", \"hulk\"] #vytvor list"
      ],
      "execution_count": null,
      "outputs": []
    },
    {
      "cell_type": "markdown",
      "metadata": {
        "id": "0c5NY4h-TwTf"
      },
      "source": [
        "#Type krabicky"
      ]
    },
    {
      "cell_type": "code",
      "metadata": {
        "colab": {
          "base_uri": "https://localhost:8080/",
          "height": 51
        },
        "id": "c5nMlt-zM08P",
        "outputId": "457020a1-bcba-4f16-c392-d1749ad6bd03"
      },
      "source": [
        "print(list_superhrdinu) #vypis co je uvnitr list_superhrdinu\n",
        "type(list_superhrdinu) #jakeho je typu"
      ],
      "execution_count": null,
      "outputs": [
        {
          "output_type": "stream",
          "text": [
            "['superman', 'ironman', 'batman', 'hulk']\n"
          ],
          "name": "stdout"
        },
        {
          "output_type": "execute_result",
          "data": {
            "text/plain": [
              "list"
            ]
          },
          "metadata": {
            "tags": []
          },
          "execution_count": 3
        }
      ]
    },
    {
      "cell_type": "markdown",
      "metadata": {
        "id": "TwHksV84TdTb"
      },
      "source": [
        "#Delka krabicky"
      ]
    },
    {
      "cell_type": "code",
      "metadata": {
        "colab": {
          "base_uri": "https://localhost:8080/",
          "height": 34
        },
        "id": "Pg95eeUDTJzY",
        "outputId": "7dcb5b9c-7e3f-4c48-ecfc-74d54b85fe04"
      },
      "source": [
        "len(list_superhrdinu)#funkce len musim davat zavorky a do nich jmeno krabicky"
      ],
      "execution_count": null,
      "outputs": [
        {
          "output_type": "execute_result",
          "data": {
            "text/plain": [
              "4"
            ]
          },
          "metadata": {
            "tags": []
          },
          "execution_count": 4
        }
      ]
    },
    {
      "cell_type": "markdown",
      "metadata": {
        "id": "0G4ttPlDT9EU"
      },
      "source": [
        "#Indexovani"
      ]
    },
    {
      "cell_type": "code",
      "metadata": {
        "colab": {
          "base_uri": "https://localhost:8080/",
          "height": 229
        },
        "id": "jL-HFNx4M1gd",
        "outputId": "c33ec09c-ff5e-48b5-c492-d5ef99c59c96"
      },
      "source": [
        "#     0           1          2       3\n",
        "#['superman', 'ironman', 'batman', 'hulk']\n",
        "print(list_superhrdinu[0])\n",
        "print(list_superhrdinu[1])\n",
        "print(list_superhrdinu[2])"
      ],
      "execution_count": null,
      "outputs": [
        {
          "output_type": "error",
          "ename": "NameError",
          "evalue": "ignored",
          "traceback": [
            "\u001b[0;31m---------------------------------------------------------------------------\u001b[0m",
            "\u001b[0;31mNameError\u001b[0m                                 Traceback (most recent call last)",
            "\u001b[0;32m<ipython-input-8-44b46997fbcc>\u001b[0m in \u001b[0;36m<module>\u001b[0;34m()\u001b[0m\n\u001b[1;32m      1\u001b[0m \u001b[0;31m#     0           1          2       3\u001b[0m\u001b[0;34m\u001b[0m\u001b[0;34m\u001b[0m\u001b[0;34m\u001b[0m\u001b[0m\n\u001b[1;32m      2\u001b[0m \u001b[0;31m#['superman', 'ironman', 'batman', 'hulk']\u001b[0m\u001b[0;34m\u001b[0m\u001b[0;34m\u001b[0m\u001b[0;34m\u001b[0m\u001b[0m\n\u001b[0;32m----> 3\u001b[0;31m \u001b[0mprint\u001b[0m\u001b[0;34m(\u001b[0m\u001b[0mlist_superhrdinu\u001b[0m\u001b[0;34m[\u001b[0m\u001b[0;36m0\u001b[0m\u001b[0;34m]\u001b[0m\u001b[0;34m)\u001b[0m\u001b[0;34m\u001b[0m\u001b[0;34m\u001b[0m\u001b[0m\n\u001b[0m\u001b[1;32m      4\u001b[0m \u001b[0mprint\u001b[0m\u001b[0;34m(\u001b[0m\u001b[0mlist_superhrdinu\u001b[0m\u001b[0;34m[\u001b[0m\u001b[0;36m1\u001b[0m\u001b[0;34m]\u001b[0m\u001b[0;34m)\u001b[0m\u001b[0;34m\u001b[0m\u001b[0;34m\u001b[0m\u001b[0m\n\u001b[1;32m      5\u001b[0m \u001b[0mprint\u001b[0m\u001b[0;34m(\u001b[0m\u001b[0mlist_superhrdinu\u001b[0m\u001b[0;34m[\u001b[0m\u001b[0;36m2\u001b[0m\u001b[0;34m]\u001b[0m\u001b[0;34m)\u001b[0m\u001b[0;34m\u001b[0m\u001b[0;34m\u001b[0m\u001b[0m\n",
            "\u001b[0;31mNameError\u001b[0m: name 'list_superhrdinu' is not defined"
          ]
        }
      ]
    },
    {
      "cell_type": "code",
      "metadata": {
        "id": "oc_JsrssUeUd"
      },
      "source": [
        "list_cisel = [1,3,4,5]"
      ],
      "execution_count": null,
      "outputs": []
    },
    {
      "cell_type": "code",
      "metadata": {
        "colab": {
          "base_uri": "https://localhost:8080/"
        },
        "id": "Hhor41duUrQC",
        "outputId": "b6854ce5-4261-456e-f5ce-4008f0118a39"
      },
      "source": [
        "print(list_cisel[3])"
      ],
      "execution_count": null,
      "outputs": [
        {
          "output_type": "stream",
          "text": [
            "5\n"
          ],
          "name": "stdout"
        }
      ]
    },
    {
      "cell_type": "code",
      "metadata": {
        "colab": {
          "base_uri": "https://localhost:8080/"
        },
        "id": "jv6ejowSU6P2",
        "outputId": "17308716-04e4-4ac7-ddf3-60cb06609b4a"
      },
      "source": [
        "list_cisel = list(range(100))\n",
        "print(list_cisel)"
      ],
      "execution_count": null,
      "outputs": [
        {
          "output_type": "stream",
          "text": [
            "[0, 1, 2, 3, 4, 5, 6, 7, 8, 9, 10, 11, 12, 13, 14, 15, 16, 17, 18, 19, 20, 21, 22, 23, 24, 25, 26, 27, 28, 29, 30, 31, 32, 33, 34, 35, 36, 37, 38, 39, 40, 41, 42, 43, 44, 45, 46, 47, 48, 49, 50, 51, 52, 53, 54, 55, 56, 57, 58, 59, 60, 61, 62, 63, 64, 65, 66, 67, 68, 69, 70, 71, 72, 73, 74, 75, 76, 77, 78, 79, 80, 81, 82, 83, 84, 85, 86, 87, 88, 89, 90, 91, 92, 93, 94, 95, 96, 97, 98, 99]\n"
          ],
          "name": "stdout"
        }
      ]
    },
    {
      "cell_type": "code",
      "metadata": {
        "colab": {
          "base_uri": "https://localhost:8080/"
        },
        "id": "QrcB0hd1VFlj",
        "outputId": "973097fb-e286-4ab6-ec30-434afb95f3a1"
      },
      "source": [
        "for cislo in list_cisel:\n",
        "  print(cislo)"
      ],
      "execution_count": null,
      "outputs": [
        {
          "output_type": "stream",
          "text": [
            "0\n",
            "1\n",
            "2\n",
            "3\n",
            "4\n",
            "5\n",
            "6\n",
            "7\n",
            "8\n",
            "9\n",
            "10\n",
            "11\n",
            "12\n",
            "13\n",
            "14\n",
            "15\n",
            "16\n",
            "17\n",
            "18\n",
            "19\n",
            "20\n",
            "21\n",
            "22\n",
            "23\n",
            "24\n",
            "25\n",
            "26\n",
            "27\n",
            "28\n",
            "29\n",
            "30\n",
            "31\n",
            "32\n",
            "33\n",
            "34\n",
            "35\n",
            "36\n",
            "37\n",
            "38\n",
            "39\n",
            "40\n",
            "41\n",
            "42\n",
            "43\n",
            "44\n",
            "45\n",
            "46\n",
            "47\n",
            "48\n",
            "49\n",
            "50\n",
            "51\n",
            "52\n",
            "53\n",
            "54\n",
            "55\n",
            "56\n",
            "57\n",
            "58\n",
            "59\n",
            "60\n",
            "61\n",
            "62\n",
            "63\n",
            "64\n",
            "65\n",
            "66\n",
            "67\n",
            "68\n",
            "69\n",
            "70\n",
            "71\n",
            "72\n",
            "73\n",
            "74\n",
            "75\n",
            "76\n",
            "77\n",
            "78\n",
            "79\n",
            "80\n",
            "81\n",
            "82\n",
            "83\n",
            "84\n",
            "85\n",
            "86\n",
            "87\n",
            "88\n",
            "89\n",
            "90\n",
            "91\n",
            "92\n",
            "93\n",
            "94\n",
            "95\n",
            "96\n",
            "97\n",
            "98\n",
            "99\n"
          ],
          "name": "stdout"
        }
      ]
    },
    {
      "cell_type": "code",
      "metadata": {
        "colab": {
          "base_uri": "https://localhost:8080/"
        },
        "id": "60PW1_fxVe0B",
        "outputId": "984434d3-6a7f-42a5-dc45-09bd735ed927"
      },
      "source": [
        "#vytvorte list(krabicka) a do nej napiste vsechna zvirata co vas napadnou.\n",
        "#a vsechny vypiste\n",
        "list_zvirat = [\"Lev\", \"Tygr\",\"Slon\", \"gepard\", \"losos\", \"páv\", \"\"] #aspon 50.\n",
        "\n",
        "for zvire in list_zvirat:\n",
        "  print(zvire)"
      ],
      "execution_count": null,
      "outputs": [
        {
          "output_type": "stream",
          "text": [
            "Lev\n",
            "Tygr\n",
            "Slon\n",
            "gepard\n",
            "losos\n",
            "páv\n",
            "\n"
          ],
          "name": "stdout"
        }
      ]
    },
    {
      "cell_type": "code",
      "metadata": {
        "colab": {
          "base_uri": "https://localhost:8080/"
        },
        "id": "--B9aigrcBm-",
        "outputId": "538bec64-0d46-427c-af5c-6baa6bac2e49"
      },
      "source": [
        "list_zvirat = [\"Lev\", \"Tyger\" ,\"zebra\" ,\"medvěd\" ,\"včela\", \"moucha\", \"kůň\", \"vosa\",\"žralok\",\"losos\", \"delfín\", \"prase\", \"hroch\", \"slon\", \"liška\",\"velryba\", \"tuňák\", \"tučňák\", \"opice\", \"lama\", \"had\", \"pavouk\" ]\n",
        "\n",
        "for zvire in list_zvirat:\n",
        "  print(zvire)"
      ],
      "execution_count": null,
      "outputs": [
        {
          "output_type": "stream",
          "text": [
            "Lev\n",
            "Tyger\n",
            "zebra\n",
            "medvěd\n",
            "včela\n",
            "moucha\n",
            "kůň\n",
            "vosa\n",
            "žralok\n",
            "losos\n",
            "delfín\n",
            "prase\n",
            "hroch\n",
            "slon\n",
            "liška\n",
            "velryba\n",
            "tuňák\n",
            "tučňák\n",
            "opice\n",
            "lama\n",
            "had\n",
            "pavouk\n"
          ],
          "name": "stdout"
        }
      ]
    },
    {
      "cell_type": "code",
      "metadata": {
        "colab": {
          "base_uri": "https://localhost:8080/"
        },
        "id": "2W14rqhlcVeB",
        "outputId": "18589b64-dc1c-4893-e466-a2983b1b6ff8"
      },
      "source": [
        "zvire = \"LEV\"\n",
        "len(zvire)"
      ],
      "execution_count": null,
      "outputs": [
        {
          "output_type": "execute_result",
          "data": {
            "text/plain": [
              "3"
            ]
          },
          "metadata": {
            "tags": []
          },
          "execution_count": 15
        }
      ]
    },
    {
      "cell_type": "code",
      "metadata": {
        "colab": {
          "base_uri": "https://localhost:8080/",
          "height": 128
        },
        "id": "i6jq45jUh2xB",
        "outputId": "8d802a47-f714-47b3-b737-fb97b5fb1747"
      },
      "source": [
        "jmeno = input(\"kohochceszabit...\")\n",
        "cislo = int(input(\"kolikrat kilnut\" ))\n",
        "cislo2 = cislo / 10\n",
        "for i in range(cislo): \n",
        "  print(\"killing \",(jmeno))\n",
        "print( (jmeno) , \"killed\" , (cislo) , \"times\", \"time for this killing\" , (cislo2),\"s\")\n",
        "\n"
      ],
      "execution_count": null,
      "outputs": [
        {
          "output_type": "error",
          "ename": "SyntaxError",
          "evalue": "ignored",
          "traceback": [
            "\u001b[0;36m  File \u001b[0;32m\"<ipython-input-16-15a14e883ad1>\"\u001b[0;36m, line \u001b[0;32m1\u001b[0m\n\u001b[0;31m    jmeno = input(\"kohochceszabit...\")\u001b[0m\n\u001b[0m         ^\u001b[0m\n\u001b[0;31mSyntaxError\u001b[0m\u001b[0;31m:\u001b[0m invalid character in identifier\n"
          ]
        }
      ]
    },
    {
      "cell_type": "code",
      "metadata": {
        "id": "m5wIpQELcLwu"
      },
      "source": [
        "list_zvirat = [\"Lev\", \"Tyger\" ,\"zebra\" ,\"medvěd\" ,\"včela\", \"moucha\", \"kůň\", \"vosa\",\"žralok\",\"losos\", \"delfín\", \"prase\", \"hroch\", \"slon\", \"liška\",\"velryba\", \"tuňák\", \"tučňák\", \"opice\", \"lama\", \"had\", \"pavouk\" ]\n",
        "list_zvirat_s_delkou_3 = []\n",
        "list_zvirat_s_delkou_4 = []\n",
        "list_zvirat_s_delkou_5 = []\n",
        "for zvire in list_zvirat:\n",
        "  if len(zvire) == 4: #== presne se rovna\n",
        "    list_zvirat_s_delkou_4.append(zvire)\n",
        "  elif len(zvire) == 3: #== presne se rovna\n",
        "    list_zvirat_s_delkou_3.append(zvire)\n",
        "  elif len(zvire) == 5: #== presne se rovna\n",
        "    list_zvirat_s_delkou_5.append(zvire)\n",
        "  else:\n",
        "    print(\"Delsi\")\n",
        "list_zvirat_s_delkou_3"
      ],
      "execution_count": null,
      "outputs": []
    },
    {
      "cell_type": "code",
      "metadata": {
        "id": "luI-Ctmpdcmu"
      },
      "source": [
        "list_zvirat_s_delkou_4"
      ],
      "execution_count": null,
      "outputs": []
    },
    {
      "cell_type": "code",
      "metadata": {
        "id": "o0Zg5bRLfY76"
      },
      "source": [
        "list_zvirat_s_delkou_5"
      ],
      "execution_count": null,
      "outputs": []
    },
    {
      "cell_type": "code",
      "metadata": {
        "id": "ICBS-WITij-h"
      },
      "source": [
        "stat = \"Slovensko\"\n",
        "print(stat)"
      ],
      "execution_count": null,
      "outputs": []
    },
    {
      "cell_type": "code",
      "metadata": {
        "id": "_jj6CBaZjEc9"
      },
      "source": [
        "list_zemi = [\"Slovensko\", \"Polsko\",\"Cesko\", \"Madarsko\", \"Rakousko\", \"Nemeko\", \"Francie\", \"Rusko\", \"USA\", \"Canada\", \"Bulharsko\", \"Finsko\", \"Litva\", \"Ukrajina\", \"Mexico\"] # [] dovnitr tak davam do uvozovek shift + ? \n",
        "print(list_zemi)"
      ],
      "execution_count": null,
      "outputs": []
    },
    {
      "cell_type": "code",
      "metadata": {
        "id": "8yj44z4xl9sv"
      },
      "source": [
        "for zeme in list_zemi:\n",
        "  print(zeme)"
      ],
      "execution_count": null,
      "outputs": []
    },
    {
      "cell_type": "code",
      "metadata": {
        "id": "SnvT6VBNoKmb"
      },
      "source": [
        "len(list_zemi) #pocet zemi"
      ],
      "execution_count": null,
      "outputs": []
    },
    {
      "cell_type": "code",
      "metadata": {
        "id": "NbsZLOjGq-ze"
      },
      "source": [
        "and, or "
      ],
      "execution_count": null,
      "outputs": []
    },
    {
      "cell_type": "code",
      "metadata": {
        "id": "n-BcNozQo-Y5"
      },
      "source": [
        "for zeme in list_zemi:\n",
        "  if len(zeme) == 5 or len(zeme) == 6:\n",
        "    print(zeme)"
      ],
      "execution_count": null,
      "outputs": []
    },
    {
      "cell_type": "code",
      "metadata": {
        "id": "xsGl9RwbsHWy"
      },
      "source": [
        "for zeme in list_zemi:\n",
        "  if len(zeme) == 5 and len(zeme) == 6:\n",
        "    print(zeme)"
      ],
      "execution_count": null,
      "outputs": []
    },
    {
      "cell_type": "code",
      "metadata": {
        "id": "vW2DAbCorz2K"
      },
      "source": [
        "list_zemi_s_delkou_6 = []\n",
        "list_zemi_s_delkou_3 = []\n",
        "list_zemi_s_delkou_5 = []\n",
        "\n",
        "for zemne in list_zemi:\n",
        "  if len(zemne) == 6: #== presne se rovna\n",
        "    list_zemi_s_delkou_6.append(zemne)\n",
        "  elif len(zemne) == 3: #== presne se rovna\n",
        "    list_zemi_s_delkou_3.append(zemne)\n",
        "  elif len(zemne) == 5: #== presne se rovna\n",
        "    list_zemi_s_delkou_5.append(zemne)\n",
        "\n",
        "print(\"3delka\")\n",
        "print(list_zemi_s_delkou_3)\n",
        "print(\"4delka\")\n",
        "print(list_zemi_s_delkou_4)\n",
        "print(\"5delka\")\n",
        "print(list_zemi_s_delkou_5)"
      ],
      "execution_count": null,
      "outputs": []
    },
    {
      "cell_type": "code",
      "metadata": {
        "id": "CY8C5bgfk9DS"
      },
      "source": [
        "#jednoducha aplikace \n",
        "oddelovac = 40 * \"=\"\n",
        "print(oddelovac)\n",
        "jmeno = input(\"Zadej jmeno: \")\n",
        "prijmeni = input(\"Zadej prijmeni: \")\n",
        "print(oddelovac)\n",
        "print(\"Vytej v mem programu.\", jmeno, prijmeni)\n",
        "\n"
      ],
      "execution_count": null,
      "outputs": []
    },
    {
      "cell_type": "code",
      "metadata": {
        "id": "YFKZNspll06o"
      },
      "source": [
        "jmena_pisnicek= [\"Praha\", \"Brno\", \"Olomouc\", \"Ostrava\", \"Liberec\"]\n",
        "moje_volba = input(\"Zadej sve mesto z listu\")\n",
        "for pisen in jmena_pisnicek:\n",
        "  if pisen == moje_volba:\n",
        "    print(\"Nejlepsi mesto v cesku je: \", pisen)\n",
        "\n"
      ],
      "execution_count": null,
      "outputs": []
    },
    {
      "cell_type": "code",
      "metadata": {
        "id": "jQ1gfBfRnWHR"
      },
      "source": [
        "[input(), input(), input()]"
      ],
      "execution_count": null,
      "outputs": []
    },
    {
      "cell_type": "code",
      "metadata": {
        "id": "409XKgGfnhJ1"
      },
      "source": [
        "muj_list = input().split(\",\")\n",
        "muj_list"
      ],
      "execution_count": null,
      "outputs": []
    },
    {
      "cell_type": "code",
      "metadata": {
        "id": "7dsBroCqtYMX"
      },
      "source": [
        "list_inputu = []\n",
        "while True:\n",
        " jmeno = input (\"jake je tvoje jmeno: \")\n",
        " if len(jmeno) > 0:\n",
        "  list_inputu.append(jmeno)\n",
        "  break\n",
        " else:\n",
        "   print(\"prazdne pole\")\n",
        "print(list_inputu)"
      ],
      "execution_count": null,
      "outputs": []
    },
    {
      "cell_type": "code",
      "metadata": {
        "id": "Wv_rPBx5tq51"
      },
      "source": [
        "info = [input(\"jake je tvoje jmeno: \"),\n",
        "        input(\"jake je tvoje prijmeni: \"), \n",
        "        input(\"rok ke si se narodil: \"), \n",
        "        input(\"mnesic kdy ses narodil: \"), \n",
        "        input(\"den kdy ses narodil: \") ]"
      ],
      "execution_count": null,
      "outputs": []
    },
    {
      "cell_type": "code",
      "metadata": {
        "id": "i69mUpWQukdr"
      },
      "source": [
        "list_moznosti = [\"jmeno\",\"prijmeni\",\"rok\",\"mesic\", \"den\"]\n",
        "cisla_indexu = [info.index(inf) for inf in info if inf == \"\"]\n",
        "\n"
      ],
      "execution_count": null,
      "outputs": []
    },
    {
      "cell_type": "code",
      "metadata": {
        "id": "1tzRgMqgwi_u"
      },
      "source": [
        "cisla_indexu"
      ],
      "execution_count": null,
      "outputs": []
    },
    {
      "cell_type": "code",
      "metadata": {
        "id": "-13J-fo2pOOO"
      },
      "source": [
        "info = [input(\"jake je tvoje jmeno: \"),\n",
        "        input(\"jake je tvoje prijmeni: \"), \n",
        "        input(\"rok ke si se narodil: \"), \n",
        "        input(\"mnesic kdy ses narodil: \"), \n",
        "        input(\"den kdy ses narodil: \") ]\n",
        "\n",
        "\n",
        "list_moznosti = [\"jmeno\",\"prijmeni\",\"rok\",\"mesic\", \"den\"]\n",
        "cisla_indexu = [info.index(inf) for inf in info if inf == \"\"]\n",
        "\n",
        "\n",
        "\n",
        "while True:\n",
        "  index = cisla_indexu[0]\n",
        "  info[index] = input(f\"Zadej: {list_moznosti[index]}\")\n",
        "  if len(info[index]) > 0:\n",
        "    break\n",
        "  else:\n",
        "    print(\"Prazdne pole\")\n",
        "print(info)"
      ],
      "execution_count": null,
      "outputs": []
    },
    {
      "cell_type": "code",
      "metadata": {
        "id": "enOeV4dmqJbz"
      },
      "source": [
        "list_inputu = []\n",
        "\n",
        "while True:\n",
        "  informace = input(\"Zadej informace: \").split(\",\")\n",
        "  for info in informace:\n",
        "    if len(info) > 0:\n",
        "      list_inputu.append(info)\n",
        "    else:\n",
        "      print(\"Prazdne pole\")\n",
        "  print(list_inputu)"
      ],
      "execution_count": null,
      "outputs": []
    },
    {
      "cell_type": "code",
      "metadata": {
        "id": "GFbh-elamazl"
      },
      "source": [
        "list_veci = [\"auto\", \"pocitac\", \"kniha\"]\n",
        "print(list_veci)"
      ],
      "execution_count": null,
      "outputs": []
    },
    {
      "cell_type": "code",
      "metadata": {
        "id": "nGZc8niMn4jj"
      },
      "source": [
        "print(),input()"
      ],
      "execution_count": null,
      "outputs": []
    },
    {
      "cell_type": "code",
      "metadata": {
        "id": "17CTFR-CntZK"
      },
      "source": [
        "list_veci = [\"auto\", \"pocitac\", \"kniha\"]\n",
        "print(list_veci)"
      ],
      "execution_count": null,
      "outputs": []
    },
    {
      "cell_type": "code",
      "metadata": {
        "id": "qnXhVkkxo0z8"
      },
      "source": [
        "list_veci = [\"auto\", \"pocitac\", \"kniha\"]\n",
        "print(list_veci)"
      ],
      "execution_count": null,
      "outputs": []
    },
    {
      "cell_type": "code",
      "metadata": {
        "id": "fhEBl_S6r9bl"
      },
      "source": [
        "list_veci = [\"auto\", \"radio\", \"pocitac\"]\n",
        "print(list_veci)\n",
        "print()\n",
        "list_ucitelu = [\"Kubik Valenta\", \"Gabriela Stajerova\", \"Petra Molcikova\"]\n",
        "print(list_ucitelu)"
      ],
      "execution_count": null,
      "outputs": []
    },
    {
      "cell_type": "code",
      "metadata": {
        "id": "rRaDbR_I02Gy"
      },
      "source": [
        "for ucitel in list_ucitelu:\n",
        "  print(ucitel)"
      ],
      "execution_count": null,
      "outputs": []
    },
    {
      "cell_type": "code",
      "metadata": {
        "id": "yEhhyKS3sRzv"
      },
      "source": [
        "print(list_ucitelu[2])"
      ],
      "execution_count": null,
      "outputs": []
    },
    {
      "cell_type": "code",
      "metadata": {
        "id": "ISOOpoN7skDx"
      },
      "source": [
        "programovani = list_ucitelu[0]\n",
        "print(programovani)"
      ],
      "execution_count": null,
      "outputs": []
    },
    {
      "cell_type": "markdown",
      "metadata": {
        "id": "tfzzlDsSsRGk"
      },
      "source": [
        "# "
      ]
    },
    {
      "cell_type": "code",
      "metadata": {
        "id": "dpJl-PbMl-Pj"
      },
      "source": [
        "text_simpsonovi = \"\"\"Natvrdlý lenoch Homer, pedantská puťka Marge, drzounský Bart, přechytralá Líza a roztomilá Maggie – to jsou členové rodiny nejslavnějšího a nejpopulárnějšího animovaného seriálu Simpsonovi.\n",
        "Už dvacet let se jich miliony fanoušků na celém světě nemohou nabažit a v pravidelných intervalech nakukují do zákulisí legendárního Springfieldu, aby byli svědky neuvěřitelných dobrodružství bláznivé, ale přesto vlastně normální americké rodinky. Simpsonovi si získali své obecenstvo především neotřelým a trochu drsným humorem, s nímž vykreslují typickou americkou rodinu z městečka Springfield. Ta se skládá z pěti naprosto odlišných lidí, pro které je občas pořádně těžké se sebou vyjít. Nemluvě o ostatních obyvatelích města, v němž to opravdu neustále žije – je tu vlastní upadlá kultura, zkorumpovaná politika, drsná mafie a lenivá policie, ale také prostí občané, kteří se každý týden chodí kát do místního kostela. V neposlední řadě si mohou diváci všimnout jednoho všudypřítomného detailu – Simpsonovi totiž téměř v každé scénce něco nebo někoho parodují – ať už jde o svět filmový, hudební, politický, ale i náboženský. Tvůrci seriálu se zkrátka s velkou odvahou pouštějí do neustálých provokací osob a institucí z reálného života.\"\"\""
      ],
      "execution_count": null,
      "outputs": []
    },
    {
      "cell_type": "code",
      "metadata": {
        "id": "dbSw1AqPq5uy"
      },
      "source": [
        "print(text_simpsonovi)"
      ],
      "execution_count": null,
      "outputs": []
    },
    {
      "cell_type": "code",
      "metadata": {
        "id": "Gj5OrheA0C33"
      },
      "source": [
        "slovnik = {\"jmeno\" : \"Vitek\"}\n",
        "print(slovnik)"
      ],
      "execution_count": null,
      "outputs": []
    },
    {
      "cell_type": "code",
      "metadata": {
        "id": "xvHSoSvo1QCc"
      },
      "source": [
        "slovnik[\"jmeno\"]"
      ],
      "execution_count": null,
      "outputs": []
    },
    {
      "cell_type": "code",
      "metadata": {
        "id": "4ZqJ7HC_18ae"
      },
      "source": [
        "slovnik[\"vek\"] = 8 "
      ],
      "execution_count": null,
      "outputs": []
    },
    {
      "cell_type": "code",
      "metadata": {
        "id": "C0YdsqvD2PJr"
      },
      "source": [
        "slovnik[\"vyska\"] = \"nevim\" "
      ],
      "execution_count": null,
      "outputs": []
    },
    {
      "cell_type": "code",
      "metadata": {
        "id": "_bkt5uuv2LHi"
      },
      "source": [
        "slovnik"
      ],
      "execution_count": null,
      "outputs": []
    },
    {
      "cell_type": "code",
      "metadata": {
        "colab": {
          "base_uri": "https://localhost:8080/"
        },
        "id": "WpiijlNn2Ygi",
        "outputId": "d22338f2-a50c-42f1-af79-926c5c066506"
      },
      "source": [
        "print(\"Jmeno je:\", slovnik[\"jmeno\"], \"vyska je:\", slovnik[\"vyska\"])"
      ],
      "execution_count": null,
      "outputs": [
        {
          "output_type": "stream",
          "text": [
            "Jmeno je: Vitek vyska je: nevim\n"
          ],
          "name": "stdout"
        }
      ]
    },
    {
      "cell_type": "markdown",
      "metadata": {
        "id": "m2sDcVi_3agv"
      },
      "source": [
        "# Vytvorte slovnik vasi tridy\n"
      ]
    },
    {
      "cell_type": "code",
      "metadata": {
        "id": "yGd2z0342vnX"
      },
      "source": [
        "nase_trida = {} # Vlastni slovnik"
      ],
      "execution_count": null,
      "outputs": []
    },
    {
      "cell_type": "code",
      "metadata": {
        "id": "bYt450Q85Utd"
      },
      "source": [
        "nase_trida[\"z1\"] = {\"jmeno\": \"vojta kucera\", \"vek\": \"11let zak\"}"
      ],
      "execution_count": null,
      "outputs": []
    },
    {
      "cell_type": "code",
      "metadata": {
        "id": "IykCQD7325-Z"
      },
      "source": [
        "# novy klic   = {klic: informace}\n",
        "nase_trida[\"zak1\"] = {\"jmeno\" : \"Jakub\", \"prijmeni\" : \"Valenta\"} #Pridame do slovniku slovni\n",
        "nase_trida[\"zak2\"] = {\"jmeno\" : \"Vojta\", \"prijmeni\" : \"Kucera\"}"
      ],
      "execution_count": null,
      "outputs": []
    },
    {
      "cell_type": "code",
      "metadata": {
        "colab": {
          "base_uri": "https://localhost:8080/",
          "height": 35
        },
        "id": "CLEG4RRF3Jug",
        "outputId": "e5ac359c-2b53-40f6-d468-dc8fdb89d58b"
      },
      "source": [
        "nase_trida[\"zak2\"][\"prijmeni\"]"
      ],
      "execution_count": null,
      "outputs": [
        {
          "output_type": "execute_result",
          "data": {
            "application/vnd.google.colaboratory.intrinsic+json": {
              "type": "string"
            },
            "text/plain": [
              "'Kucera'"
            ]
          },
          "metadata": {
            "tags": []
          },
          "execution_count": 41
        }
      ]
    },
    {
      "cell_type": "code",
      "metadata": {
        "colab": {
          "base_uri": "https://localhost:8080/"
        },
        "id": "4JlG2CXG7IqD",
        "outputId": "5d7fd963-9497-460a-aed0-7c08fcb0da3d"
      },
      "source": [
        "print(nase_trida[\"zak1\"][\"jmeno\"], nase_trida[\"zak1\"][\"prijmeni\"])"
      ],
      "execution_count": null,
      "outputs": [
        {
          "output_type": "stream",
          "text": [
            "Jakub Valenta\n"
          ],
          "name": "stdout"
        }
      ]
    },
    {
      "cell_type": "code",
      "metadata": {
        "colab": {
          "base_uri": "https://localhost:8080/",
          "height": 555
        },
        "id": "WJKYUjOh-ym6",
        "outputId": "d714eee8-fec3-480d-b098-3cd60b9072c8"
      },
      "source": [
        "nase_trida = {}\n",
        "for i in range(10):\n",
        "  nase_trida[f\"zak{i}\"] = {\"jmeno\" : input(\"Zadej jmeno: \"), \"prijmeni\" : input(\"Zadej prijmeni: \")}\n",
        "for i in range(1,len(nase_trida)):\n",
        "  print(nase_trida[f\"zak{i}\"][\"jmeno\"], nase_trida[f\"zak{i}\"][\"prijmeni\"])"
      ],
      "execution_count": null,
      "outputs": [
        {
          "output_type": "stream",
          "text": [
            "Zadej jmeno: Jakub\n",
            "Zadej prijmeni: Valenta\n"
          ],
          "name": "stdout"
        },
        {
          "output_type": "error",
          "ename": "KeyboardInterrupt",
          "evalue": "ignored",
          "traceback": [
            "\u001b[0;31m---------------------------------------------------------------------------\u001b[0m",
            "\u001b[0;31mKeyboardInterrupt\u001b[0m                         Traceback (most recent call last)",
            "\u001b[0;32m/usr/local/lib/python3.6/dist-packages/ipykernel/kernelbase.py\u001b[0m in \u001b[0;36m_input_request\u001b[0;34m(self, prompt, ident, parent, password)\u001b[0m\n\u001b[1;32m    728\u001b[0m             \u001b[0;32mtry\u001b[0m\u001b[0;34m:\u001b[0m\u001b[0;34m\u001b[0m\u001b[0;34m\u001b[0m\u001b[0m\n\u001b[0;32m--> 729\u001b[0;31m                 \u001b[0mident\u001b[0m\u001b[0;34m,\u001b[0m \u001b[0mreply\u001b[0m \u001b[0;34m=\u001b[0m \u001b[0mself\u001b[0m\u001b[0;34m.\u001b[0m\u001b[0msession\u001b[0m\u001b[0;34m.\u001b[0m\u001b[0mrecv\u001b[0m\u001b[0;34m(\u001b[0m\u001b[0mself\u001b[0m\u001b[0;34m.\u001b[0m\u001b[0mstdin_socket\u001b[0m\u001b[0;34m,\u001b[0m \u001b[0;36m0\u001b[0m\u001b[0;34m)\u001b[0m\u001b[0;34m\u001b[0m\u001b[0;34m\u001b[0m\u001b[0m\n\u001b[0m\u001b[1;32m    730\u001b[0m             \u001b[0;32mexcept\u001b[0m \u001b[0mException\u001b[0m\u001b[0;34m:\u001b[0m\u001b[0;34m\u001b[0m\u001b[0;34m\u001b[0m\u001b[0m\n",
            "\u001b[0;32m/usr/local/lib/python3.6/dist-packages/jupyter_client/session.py\u001b[0m in \u001b[0;36mrecv\u001b[0;34m(self, socket, mode, content, copy)\u001b[0m\n\u001b[1;32m    802\u001b[0m         \u001b[0;32mtry\u001b[0m\u001b[0;34m:\u001b[0m\u001b[0;34m\u001b[0m\u001b[0;34m\u001b[0m\u001b[0m\n\u001b[0;32m--> 803\u001b[0;31m             \u001b[0mmsg_list\u001b[0m \u001b[0;34m=\u001b[0m \u001b[0msocket\u001b[0m\u001b[0;34m.\u001b[0m\u001b[0mrecv_multipart\u001b[0m\u001b[0;34m(\u001b[0m\u001b[0mmode\u001b[0m\u001b[0;34m,\u001b[0m \u001b[0mcopy\u001b[0m\u001b[0;34m=\u001b[0m\u001b[0mcopy\u001b[0m\u001b[0;34m)\u001b[0m\u001b[0;34m\u001b[0m\u001b[0;34m\u001b[0m\u001b[0m\n\u001b[0m\u001b[1;32m    804\u001b[0m         \u001b[0;32mexcept\u001b[0m \u001b[0mzmq\u001b[0m\u001b[0;34m.\u001b[0m\u001b[0mZMQError\u001b[0m \u001b[0;32mas\u001b[0m \u001b[0me\u001b[0m\u001b[0;34m:\u001b[0m\u001b[0;34m\u001b[0m\u001b[0;34m\u001b[0m\u001b[0m\n",
            "\u001b[0;32m/usr/local/lib/python3.6/dist-packages/zmq/sugar/socket.py\u001b[0m in \u001b[0;36mrecv_multipart\u001b[0;34m(self, flags, copy, track)\u001b[0m\n\u001b[1;32m    565\u001b[0m         \"\"\"\n\u001b[0;32m--> 566\u001b[0;31m         \u001b[0mparts\u001b[0m \u001b[0;34m=\u001b[0m \u001b[0;34m[\u001b[0m\u001b[0mself\u001b[0m\u001b[0;34m.\u001b[0m\u001b[0mrecv\u001b[0m\u001b[0;34m(\u001b[0m\u001b[0mflags\u001b[0m\u001b[0;34m,\u001b[0m \u001b[0mcopy\u001b[0m\u001b[0;34m=\u001b[0m\u001b[0mcopy\u001b[0m\u001b[0;34m,\u001b[0m \u001b[0mtrack\u001b[0m\u001b[0;34m=\u001b[0m\u001b[0mtrack\u001b[0m\u001b[0;34m)\u001b[0m\u001b[0;34m]\u001b[0m\u001b[0;34m\u001b[0m\u001b[0;34m\u001b[0m\u001b[0m\n\u001b[0m\u001b[1;32m    567\u001b[0m         \u001b[0;31m# have first part already, only loop while more to receive\u001b[0m\u001b[0;34m\u001b[0m\u001b[0;34m\u001b[0m\u001b[0;34m\u001b[0m\u001b[0m\n",
            "\u001b[0;32mzmq/backend/cython/socket.pyx\u001b[0m in \u001b[0;36mzmq.backend.cython.socket.Socket.recv\u001b[0;34m()\u001b[0m\n",
            "\u001b[0;32mzmq/backend/cython/socket.pyx\u001b[0m in \u001b[0;36mzmq.backend.cython.socket.Socket.recv\u001b[0;34m()\u001b[0m\n",
            "\u001b[0;32mzmq/backend/cython/socket.pyx\u001b[0m in \u001b[0;36mzmq.backend.cython.socket._recv_copy\u001b[0;34m()\u001b[0m\n",
            "\u001b[0;32m/usr/local/lib/python3.6/dist-packages/zmq/backend/cython/checkrc.pxd\u001b[0m in \u001b[0;36mzmq.backend.cython.checkrc._check_rc\u001b[0;34m()\u001b[0m\n",
            "\u001b[0;31mKeyboardInterrupt\u001b[0m: ",
            "\nDuring handling of the above exception, another exception occurred:\n",
            "\u001b[0;31mKeyboardInterrupt\u001b[0m                         Traceback (most recent call last)",
            "\u001b[0;32m<ipython-input-49-008e27ff8239>\u001b[0m in \u001b[0;36m<module>\u001b[0;34m()\u001b[0m\n\u001b[1;32m      1\u001b[0m \u001b[0mnase_trida\u001b[0m \u001b[0;34m=\u001b[0m \u001b[0;34m{\u001b[0m\u001b[0;34m}\u001b[0m\u001b[0;34m\u001b[0m\u001b[0;34m\u001b[0m\u001b[0m\n\u001b[1;32m      2\u001b[0m \u001b[0;32mfor\u001b[0m \u001b[0mi\u001b[0m \u001b[0;32min\u001b[0m \u001b[0mrange\u001b[0m\u001b[0;34m(\u001b[0m\u001b[0;36m10\u001b[0m\u001b[0;34m)\u001b[0m\u001b[0;34m:\u001b[0m\u001b[0;34m\u001b[0m\u001b[0;34m\u001b[0m\u001b[0m\n\u001b[0;32m----> 3\u001b[0;31m   \u001b[0mnase_trida\u001b[0m\u001b[0;34m[\u001b[0m\u001b[0;34mf\"zak{i}\"\u001b[0m\u001b[0;34m]\u001b[0m \u001b[0;34m=\u001b[0m \u001b[0;34m{\u001b[0m\u001b[0;34m\"jmeno\"\u001b[0m \u001b[0;34m:\u001b[0m \u001b[0minput\u001b[0m\u001b[0;34m(\u001b[0m\u001b[0;34m\"Zadej jmeno: \"\u001b[0m\u001b[0;34m)\u001b[0m\u001b[0;34m,\u001b[0m \u001b[0;34m\"prijmeni\"\u001b[0m \u001b[0;34m:\u001b[0m \u001b[0minput\u001b[0m\u001b[0;34m(\u001b[0m\u001b[0;34m\"Zadej prijmeni: \"\u001b[0m\u001b[0;34m)\u001b[0m\u001b[0;34m}\u001b[0m\u001b[0;34m\u001b[0m\u001b[0;34m\u001b[0m\u001b[0m\n\u001b[0m\u001b[1;32m      4\u001b[0m \u001b[0;32mfor\u001b[0m \u001b[0mi\u001b[0m \u001b[0;32min\u001b[0m \u001b[0mrange\u001b[0m\u001b[0;34m(\u001b[0m\u001b[0;36m1\u001b[0m\u001b[0;34m,\u001b[0m\u001b[0mlen\u001b[0m\u001b[0;34m(\u001b[0m\u001b[0mnase_trida\u001b[0m\u001b[0;34m)\u001b[0m\u001b[0;34m)\u001b[0m\u001b[0;34m:\u001b[0m\u001b[0;34m\u001b[0m\u001b[0;34m\u001b[0m\u001b[0m\n\u001b[1;32m      5\u001b[0m   \u001b[0mprint\u001b[0m\u001b[0;34m(\u001b[0m\u001b[0mnase_trida\u001b[0m\u001b[0;34m[\u001b[0m\u001b[0;34mf\"zak{i}\"\u001b[0m\u001b[0;34m]\u001b[0m\u001b[0;34m[\u001b[0m\u001b[0;34m\"jmeno\"\u001b[0m\u001b[0;34m]\u001b[0m\u001b[0;34m,\u001b[0m \u001b[0mnase_trida\u001b[0m\u001b[0;34m[\u001b[0m\u001b[0;34mf\"zak{i}\"\u001b[0m\u001b[0;34m]\u001b[0m\u001b[0;34m[\u001b[0m\u001b[0;34m\"prijmeni\"\u001b[0m\u001b[0;34m]\u001b[0m\u001b[0;34m)\u001b[0m\u001b[0;34m\u001b[0m\u001b[0;34m\u001b[0m\u001b[0m\n",
            "\u001b[0;32m/usr/local/lib/python3.6/dist-packages/ipykernel/kernelbase.py\u001b[0m in \u001b[0;36mraw_input\u001b[0;34m(self, prompt)\u001b[0m\n\u001b[1;32m    702\u001b[0m             \u001b[0mself\u001b[0m\u001b[0;34m.\u001b[0m\u001b[0m_parent_ident\u001b[0m\u001b[0;34m,\u001b[0m\u001b[0;34m\u001b[0m\u001b[0;34m\u001b[0m\u001b[0m\n\u001b[1;32m    703\u001b[0m             \u001b[0mself\u001b[0m\u001b[0;34m.\u001b[0m\u001b[0m_parent_header\u001b[0m\u001b[0;34m,\u001b[0m\u001b[0;34m\u001b[0m\u001b[0;34m\u001b[0m\u001b[0m\n\u001b[0;32m--> 704\u001b[0;31m             \u001b[0mpassword\u001b[0m\u001b[0;34m=\u001b[0m\u001b[0;32mFalse\u001b[0m\u001b[0;34m,\u001b[0m\u001b[0;34m\u001b[0m\u001b[0;34m\u001b[0m\u001b[0m\n\u001b[0m\u001b[1;32m    705\u001b[0m         )\n\u001b[1;32m    706\u001b[0m \u001b[0;34m\u001b[0m\u001b[0m\n",
            "\u001b[0;32m/usr/local/lib/python3.6/dist-packages/ipykernel/kernelbase.py\u001b[0m in \u001b[0;36m_input_request\u001b[0;34m(self, prompt, ident, parent, password)\u001b[0m\n\u001b[1;32m    732\u001b[0m             \u001b[0;32mexcept\u001b[0m \u001b[0mKeyboardInterrupt\u001b[0m\u001b[0;34m:\u001b[0m\u001b[0;34m\u001b[0m\u001b[0;34m\u001b[0m\u001b[0m\n\u001b[1;32m    733\u001b[0m                 \u001b[0;31m# re-raise KeyboardInterrupt, to truncate traceback\u001b[0m\u001b[0;34m\u001b[0m\u001b[0;34m\u001b[0m\u001b[0;34m\u001b[0m\u001b[0m\n\u001b[0;32m--> 734\u001b[0;31m                 \u001b[0;32mraise\u001b[0m \u001b[0mKeyboardInterrupt\u001b[0m\u001b[0;34m\u001b[0m\u001b[0;34m\u001b[0m\u001b[0m\n\u001b[0m\u001b[1;32m    735\u001b[0m             \u001b[0;32melse\u001b[0m\u001b[0;34m:\u001b[0m\u001b[0;34m\u001b[0m\u001b[0;34m\u001b[0m\u001b[0m\n\u001b[1;32m    736\u001b[0m                 \u001b[0;32mbreak\u001b[0m\u001b[0;34m\u001b[0m\u001b[0;34m\u001b[0m\u001b[0m\n",
            "\u001b[0;31mKeyboardInterrupt\u001b[0m: "
          ]
        }
      ]
    }
  ]
}